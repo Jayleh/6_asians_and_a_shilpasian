{
 "cells": [
  {
   "cell_type": "code",
   "execution_count": 4,
   "metadata": {},
   "outputs": [],
   "source": [
    "import pandas as pd\n",
    "import numpy as np\n",
    "from keras.models import load_model"
   ]
  },
  {
   "cell_type": "code",
   "execution_count": 5,
   "metadata": {},
   "outputs": [],
   "source": [
    "df = pd.read_csv(\"data/nfl.csv\")\n",
    "\n",
    "# Grab dummy variables\n",
    "dummy_vars = pd.get_dummies(df[[\"opp\", \"team\"]])\n",
    "\n",
    "# Add our dummy columns into the features df\n",
    "df[list(dummy_vars.columns)] = dummy_vars\n",
    "\n",
    "# Define the features\n",
    "feature_df = df.drop([\"result\", \"date\", \"opp\", \"team\", \"margin\",\n",
    "                          \"points\", \"points_allowed\", \"total_points\"], axis=1)\n",
    "\n",
    "# Grab column names\n",
    "columns = list(feature_df.columns)\n",
    "\n",
    "zeros = np.zeros(shape=(1, 82))\n",
    "\n",
    "default_df = pd.DataFrame(zeros, columns=columns)\n",
    "\n",
    "oriented = default_df.to_dict(orient=\"records\")"
   ]
  },
  {
   "cell_type": "code",
   "execution_count": 6,
   "metadata": {},
   "outputs": [
    {
     "data": {
      "text/html": [
       "<div>\n",
       "<style>\n",
       "    .dataframe thead tr:only-child th {\n",
       "        text-align: right;\n",
       "    }\n",
       "\n",
       "    .dataframe thead th {\n",
       "        text-align: left;\n",
       "    }\n",
       "\n",
       "    .dataframe tbody tr th {\n",
       "        vertical-align: top;\n",
       "    }\n",
       "</style>\n",
       "<table border=\"1\" class=\"dataframe\">\n",
       "  <thead>\n",
       "    <tr style=\"text-align: right;\">\n",
       "      <th></th>\n",
       "      <th>third_per</th>\n",
       "      <th>third_per_allowed</th>\n",
       "      <th>TOP</th>\n",
       "      <th>first_downs</th>\n",
       "      <th>first_downs_allowed</th>\n",
       "      <th>ha</th>\n",
       "      <th>pass_yards</th>\n",
       "      <th>pass_yards_allowed</th>\n",
       "      <th>penalty_yards</th>\n",
       "      <th>plays</th>\n",
       "      <th>...</th>\n",
       "      <th>team_NYG</th>\n",
       "      <th>team_NYJ</th>\n",
       "      <th>team_OAK</th>\n",
       "      <th>team_PHI</th>\n",
       "      <th>team_PIT</th>\n",
       "      <th>team_SEA</th>\n",
       "      <th>team_SFO</th>\n",
       "      <th>team_TBB</th>\n",
       "      <th>team_TEN</th>\n",
       "      <th>team_WAS</th>\n",
       "    </tr>\n",
       "  </thead>\n",
       "  <tbody>\n",
       "    <tr>\n",
       "      <th>0</th>\n",
       "      <td>0.0</td>\n",
       "      <td>0.0</td>\n",
       "      <td>0.0</td>\n",
       "      <td>0.0</td>\n",
       "      <td>0.0</td>\n",
       "      <td>0.0</td>\n",
       "      <td>0.0</td>\n",
       "      <td>0.0</td>\n",
       "      <td>0.0</td>\n",
       "      <td>0.0</td>\n",
       "      <td>...</td>\n",
       "      <td>0.0</td>\n",
       "      <td>0.0</td>\n",
       "      <td>0.0</td>\n",
       "      <td>0.0</td>\n",
       "      <td>0.0</td>\n",
       "      <td>0.0</td>\n",
       "      <td>0.0</td>\n",
       "      <td>0.0</td>\n",
       "      <td>0.0</td>\n",
       "      <td>0.0</td>\n",
       "    </tr>\n",
       "  </tbody>\n",
       "</table>\n",
       "<p>1 rows × 82 columns</p>\n",
       "</div>"
      ],
      "text/plain": [
       "   third_per  third_per_allowed  TOP  first_downs  first_downs_allowed   ha  \\\n",
       "0        0.0                0.0  0.0          0.0                  0.0  0.0   \n",
       "\n",
       "   pass_yards  pass_yards_allowed  penalty_yards  plays    ...     team_NYG  \\\n",
       "0         0.0                 0.0            0.0    0.0    ...          0.0   \n",
       "\n",
       "   team_NYJ  team_OAK  team_PHI  team_PIT  team_SEA  team_SFO  team_TBB  \\\n",
       "0       0.0       0.0       0.0       0.0       0.0       0.0       0.0   \n",
       "\n",
       "   team_TEN  team_WAS  \n",
       "0       0.0       0.0  \n",
       "\n",
       "[1 rows x 82 columns]"
      ]
     },
     "execution_count": 6,
     "metadata": {},
     "output_type": "execute_result"
    }
   ],
   "source": [
    "default_df"
   ]
  },
  {
   "cell_type": "code",
   "execution_count": 7,
   "metadata": {},
   "outputs": [],
   "source": [
    "data = {}"
   ]
  },
  {
   "cell_type": "code",
   "execution_count": 8,
   "metadata": {},
   "outputs": [],
   "source": [
    "oriented = default_df.to_dict(orient=\"records\")"
   ]
  },
  {
   "cell_type": "code",
   "execution_count": 9,
   "metadata": {
    "scrolled": true
   },
   "outputs": [
    {
     "data": {
      "text/plain": [
       "[{'TOP': 0.0,\n",
       "  'first_downs': 0.0,\n",
       "  'first_downs_allowed': 0.0,\n",
       "  'ha': 0.0,\n",
       "  'opp_ARI': 0.0,\n",
       "  'opp_ATL': 0.0,\n",
       "  'opp_BAL': 0.0,\n",
       "  'opp_BUF': 0.0,\n",
       "  'opp_CAR': 0.0,\n",
       "  'opp_CHI': 0.0,\n",
       "  'opp_CIN': 0.0,\n",
       "  'opp_CLE': 0.0,\n",
       "  'opp_DAL': 0.0,\n",
       "  'opp_DEN': 0.0,\n",
       "  'opp_DET': 0.0,\n",
       "  'opp_GBP': 0.0,\n",
       "  'opp_HOU': 0.0,\n",
       "  'opp_IND': 0.0,\n",
       "  'opp_JAX': 0.0,\n",
       "  'opp_KCC': 0.0,\n",
       "  'opp_LAC': 0.0,\n",
       "  'opp_LAR': 0.0,\n",
       "  'opp_MIA': 0.0,\n",
       "  'opp_MIN': 0.0,\n",
       "  'opp_NEP': 0.0,\n",
       "  'opp_NOS': 0.0,\n",
       "  'opp_NYG': 0.0,\n",
       "  'opp_NYJ': 0.0,\n",
       "  'opp_OAK': 0.0,\n",
       "  'opp_PHI': 0.0,\n",
       "  'opp_PIT': 0.0,\n",
       "  'opp_SEA': 0.0,\n",
       "  'opp_SFO': 0.0,\n",
       "  'opp_TBB': 0.0,\n",
       "  'opp_TEN': 0.0,\n",
       "  'opp_WAS': 0.0,\n",
       "  'pass_yards': 0.0,\n",
       "  'pass_yards_allowed': 0.0,\n",
       "  'penalty_yards': 0.0,\n",
       "  'plays': 0.0,\n",
       "  'rush_yards': 0.0,\n",
       "  'rush_yards_allowed': 0.0,\n",
       "  'sacked': 0.0,\n",
       "  'sacks': 0.0,\n",
       "  'takeaways': 0.0,\n",
       "  'team_ARI': 0.0,\n",
       "  'team_ATL': 0.0,\n",
       "  'team_BAL': 0.0,\n",
       "  'team_BUF': 0.0,\n",
       "  'team_CAR': 0.0,\n",
       "  'team_CHI': 0.0,\n",
       "  'team_CIN': 0.0,\n",
       "  'team_CLE': 0.0,\n",
       "  'team_DAL': 0.0,\n",
       "  'team_DEN': 0.0,\n",
       "  'team_DET': 0.0,\n",
       "  'team_GBP': 0.0,\n",
       "  'team_HOU': 0.0,\n",
       "  'team_IND': 0.0,\n",
       "  'team_JAX': 0.0,\n",
       "  'team_KCC': 0.0,\n",
       "  'team_LAC': 0.0,\n",
       "  'team_LAR': 0.0,\n",
       "  'team_MIA': 0.0,\n",
       "  'team_MIN': 0.0,\n",
       "  'team_NEP': 0.0,\n",
       "  'team_NOS': 0.0,\n",
       "  'team_NYG': 0.0,\n",
       "  'team_NYJ': 0.0,\n",
       "  'team_OAK': 0.0,\n",
       "  'team_PHI': 0.0,\n",
       "  'team_PIT': 0.0,\n",
       "  'team_SEA': 0.0,\n",
       "  'team_SFO': 0.0,\n",
       "  'team_TBB': 0.0,\n",
       "  'team_TEN': 0.0,\n",
       "  'team_WAS': 0.0,\n",
       "  'third_per': 0.0,\n",
       "  'third_per_allowed': 0.0,\n",
       "  'total_yards': 0.0,\n",
       "  'total_yards_allowed': 0.0,\n",
       "  'turnovers': 0.0}]"
      ]
     },
     "execution_count": 9,
     "metadata": {},
     "output_type": "execute_result"
    }
   ],
   "source": [
    "oriented"
   ]
  },
  {
   "cell_type": "code",
   "execution_count": 10,
   "metadata": {},
   "outputs": [],
   "source": [
    "model_input_dict = {'team': 'ARI', 'opp': 'ARI', 'third_per': '5753', 'third_per_allowed': '7534', 'TOP': '453', 'first_downs': '7532', 'first_downs_allowed': '75345', 'ha': 'Home', 'pass_yards': '53786', 'pass_yards_allowed': '53786', 'penalty_yards': '453453', 'plays': '786432', 'rush_yards': '753453', 'rush_yards_allowed': '43788', 'sacked': '453', 'sacks': '789', 'takeaways': '721', 'total_yards': '7893', 'total_yards_allowed': '45645', 'turnovers': '76'}"
   ]
  },
  {
   "cell_type": "code",
   "execution_count": 11,
   "metadata": {},
   "outputs": [],
   "source": [
    "columns = list(default_df.columns)"
   ]
  },
  {
   "cell_type": "code",
   "execution_count": 12,
   "metadata": {
    "scrolled": true
   },
   "outputs": [],
   "source": [
    "for column in columns:\n",
    "    for key, value in model_input_dict.items():\n",
    "        \n",
    "        if key == column:\n",
    "            \n",
    "            default_df[column] = value\n",
    "        \n",
    "        elif f\"{key}_{value}\" == column:\n",
    "            \n",
    "            default_df[column] = 1"
   ]
  },
  {
   "cell_type": "code",
   "execution_count": 13,
   "metadata": {},
   "outputs": [
    {
     "data": {
      "text/html": [
       "<div>\n",
       "<style>\n",
       "    .dataframe thead tr:only-child th {\n",
       "        text-align: right;\n",
       "    }\n",
       "\n",
       "    .dataframe thead th {\n",
       "        text-align: left;\n",
       "    }\n",
       "\n",
       "    .dataframe tbody tr th {\n",
       "        vertical-align: top;\n",
       "    }\n",
       "</style>\n",
       "<table border=\"1\" class=\"dataframe\">\n",
       "  <thead>\n",
       "    <tr style=\"text-align: right;\">\n",
       "      <th></th>\n",
       "      <th>third_per</th>\n",
       "      <th>third_per_allowed</th>\n",
       "      <th>TOP</th>\n",
       "      <th>first_downs</th>\n",
       "      <th>first_downs_allowed</th>\n",
       "      <th>ha</th>\n",
       "      <th>pass_yards</th>\n",
       "      <th>pass_yards_allowed</th>\n",
       "      <th>penalty_yards</th>\n",
       "      <th>plays</th>\n",
       "      <th>...</th>\n",
       "      <th>team_NYG</th>\n",
       "      <th>team_NYJ</th>\n",
       "      <th>team_OAK</th>\n",
       "      <th>team_PHI</th>\n",
       "      <th>team_PIT</th>\n",
       "      <th>team_SEA</th>\n",
       "      <th>team_SFO</th>\n",
       "      <th>team_TBB</th>\n",
       "      <th>team_TEN</th>\n",
       "      <th>team_WAS</th>\n",
       "    </tr>\n",
       "  </thead>\n",
       "  <tbody>\n",
       "    <tr>\n",
       "      <th>0</th>\n",
       "      <td>5753</td>\n",
       "      <td>7534</td>\n",
       "      <td>453</td>\n",
       "      <td>7532</td>\n",
       "      <td>75345</td>\n",
       "      <td>Home</td>\n",
       "      <td>53786</td>\n",
       "      <td>53786</td>\n",
       "      <td>453453</td>\n",
       "      <td>786432</td>\n",
       "      <td>...</td>\n",
       "      <td>0.0</td>\n",
       "      <td>0.0</td>\n",
       "      <td>0.0</td>\n",
       "      <td>0.0</td>\n",
       "      <td>0.0</td>\n",
       "      <td>0.0</td>\n",
       "      <td>0.0</td>\n",
       "      <td>0.0</td>\n",
       "      <td>0.0</td>\n",
       "      <td>0.0</td>\n",
       "    </tr>\n",
       "  </tbody>\n",
       "</table>\n",
       "<p>1 rows × 82 columns</p>\n",
       "</div>"
      ],
      "text/plain": [
       "  third_per third_per_allowed  TOP first_downs first_downs_allowed    ha  \\\n",
       "0      5753              7534  453        7532               75345  Home   \n",
       "\n",
       "  pass_yards pass_yards_allowed penalty_yards   plays    ...    team_NYG  \\\n",
       "0      53786              53786        453453  786432    ...         0.0   \n",
       "\n",
       "  team_NYJ team_OAK team_PHI team_PIT team_SEA team_SFO team_TBB  team_TEN  \\\n",
       "0      0.0      0.0      0.0      0.0      0.0      0.0      0.0       0.0   \n",
       "\n",
       "   team_WAS  \n",
       "0       0.0  \n",
       "\n",
       "[1 rows x 82 columns]"
      ]
     },
     "execution_count": 13,
     "metadata": {},
     "output_type": "execute_result"
    }
   ],
   "source": [
    "default_df"
   ]
  },
  {
   "cell_type": "code",
   "execution_count": 14,
   "metadata": {},
   "outputs": [],
   "source": [
    "ha_value = default_df[\"ha\"][0]\n",
    "if ha_value == \"Home\":\n",
    "    default_df[\"ha\"] = 0\n",
    "elif ha_value == \"Away\":\n",
    "    default_df[\"ha\"] = 1"
   ]
  },
  {
   "cell_type": "code",
   "execution_count": 15,
   "metadata": {},
   "outputs": [
    {
     "data": {
      "text/html": [
       "<div>\n",
       "<style>\n",
       "    .dataframe thead tr:only-child th {\n",
       "        text-align: right;\n",
       "    }\n",
       "\n",
       "    .dataframe thead th {\n",
       "        text-align: left;\n",
       "    }\n",
       "\n",
       "    .dataframe tbody tr th {\n",
       "        vertical-align: top;\n",
       "    }\n",
       "</style>\n",
       "<table border=\"1\" class=\"dataframe\">\n",
       "  <thead>\n",
       "    <tr style=\"text-align: right;\">\n",
       "      <th></th>\n",
       "      <th>third_per</th>\n",
       "      <th>third_per_allowed</th>\n",
       "      <th>TOP</th>\n",
       "      <th>first_downs</th>\n",
       "      <th>first_downs_allowed</th>\n",
       "      <th>ha</th>\n",
       "      <th>pass_yards</th>\n",
       "      <th>pass_yards_allowed</th>\n",
       "      <th>penalty_yards</th>\n",
       "      <th>plays</th>\n",
       "      <th>...</th>\n",
       "      <th>team_NYG</th>\n",
       "      <th>team_NYJ</th>\n",
       "      <th>team_OAK</th>\n",
       "      <th>team_PHI</th>\n",
       "      <th>team_PIT</th>\n",
       "      <th>team_SEA</th>\n",
       "      <th>team_SFO</th>\n",
       "      <th>team_TBB</th>\n",
       "      <th>team_TEN</th>\n",
       "      <th>team_WAS</th>\n",
       "    </tr>\n",
       "  </thead>\n",
       "  <tbody>\n",
       "    <tr>\n",
       "      <th>0</th>\n",
       "      <td>5753</td>\n",
       "      <td>7534</td>\n",
       "      <td>453</td>\n",
       "      <td>7532</td>\n",
       "      <td>75345</td>\n",
       "      <td>0</td>\n",
       "      <td>53786</td>\n",
       "      <td>53786</td>\n",
       "      <td>453453</td>\n",
       "      <td>786432</td>\n",
       "      <td>...</td>\n",
       "      <td>0.0</td>\n",
       "      <td>0.0</td>\n",
       "      <td>0.0</td>\n",
       "      <td>0.0</td>\n",
       "      <td>0.0</td>\n",
       "      <td>0.0</td>\n",
       "      <td>0.0</td>\n",
       "      <td>0.0</td>\n",
       "      <td>0.0</td>\n",
       "      <td>0.0</td>\n",
       "    </tr>\n",
       "  </tbody>\n",
       "</table>\n",
       "<p>1 rows × 82 columns</p>\n",
       "</div>"
      ],
      "text/plain": [
       "  third_per third_per_allowed  TOP first_downs first_downs_allowed  ha  \\\n",
       "0      5753              7534  453        7532               75345   0   \n",
       "\n",
       "  pass_yards pass_yards_allowed penalty_yards   plays    ...    team_NYG  \\\n",
       "0      53786              53786        453453  786432    ...         0.0   \n",
       "\n",
       "  team_NYJ team_OAK team_PHI team_PIT team_SEA team_SFO team_TBB  team_TEN  \\\n",
       "0      0.0      0.0      0.0      0.0      0.0      0.0      0.0       0.0   \n",
       "\n",
       "   team_WAS  \n",
       "0       0.0  \n",
       "\n",
       "[1 rows x 82 columns]"
      ]
     },
     "execution_count": 15,
     "metadata": {},
     "output_type": "execute_result"
    }
   ],
   "source": [
    "default_df"
   ]
  },
  {
   "cell_type": "markdown",
   "metadata": {},
   "source": [
    "# Load model"
   ]
  },
  {
   "cell_type": "code",
   "execution_count": 16,
   "metadata": {},
   "outputs": [],
   "source": [
    "deep_model = load_model(\"models/deep_neural_model_trained.h5\")"
   ]
  },
  {
   "cell_type": "markdown",
   "metadata": {},
   "source": [
    "# Predict result with user input values"
   ]
  },
  {
   "cell_type": "code",
   "execution_count": null,
   "metadata": {},
   "outputs": [],
   "source": [
    "from sklearn.preprocessing import LabelEncoder\n",
    "\n",
    "label_encoder = LabelEncoder()"
   ]
  },
  {
   "cell_type": "code",
   "execution_count": 23,
   "metadata": {},
   "outputs": [],
   "source": [
    "result = deep_model.predict_classes(default_df)"
   ]
  },
  {
   "cell_type": "code",
   "execution_count": 24,
   "metadata": {},
   "outputs": [
    {
     "ename": "NameError",
     "evalue": "name 'label_encoder' is not defined",
     "output_type": "error",
     "traceback": [
      "\u001b[1;31m---------------------------------------------------------------------------\u001b[0m",
      "\u001b[1;31mNameError\u001b[0m                                 Traceback (most recent call last)",
      "\u001b[1;32m<ipython-input-24-3bf48bfab0bc>\u001b[0m in \u001b[0;36m<module>\u001b[1;34m()\u001b[0m\n\u001b[1;32m----> 1\u001b[1;33m \u001b[0mpredicted_label_column\u001b[0m \u001b[1;33m=\u001b[0m \u001b[0mlabel_encoder\u001b[0m\u001b[1;33m.\u001b[0m\u001b[0minverse_transform\u001b[0m\u001b[1;33m(\u001b[0m\u001b[0mresult\u001b[0m\u001b[1;33m)\u001b[0m\u001b[1;33m\u001b[0m\u001b[0m\n\u001b[0m",
      "\u001b[1;31mNameError\u001b[0m: name 'label_encoder' is not defined"
     ]
    }
   ],
   "source": [
    "predicted_label_column = label_encoder.inverse_transform(result)"
   ]
  },
  {
   "cell_type": "code",
   "execution_count": 17,
   "metadata": {},
   "outputs": [
    {
     "ename": "NameError",
     "evalue": "name 'voice_model' is not defined",
     "output_type": "error",
     "traceback": [
      "\u001b[1;31m---------------------------------------------------------------------------\u001b[0m",
      "\u001b[1;31mNameError\u001b[0m                                 Traceback (most recent call last)",
      "\u001b[1;32m<ipython-input-17-27014794dfa7>\u001b[0m in \u001b[0;36m<module>\u001b[1;34m()\u001b[0m\n\u001b[1;32m----> 1\u001b[1;33m model_loss, model_accuracy = voice_model.evaluate(\n\u001b[0m\u001b[0;32m      2\u001b[0m     X_test_scaled, y_test_categorical, verbose=2)\n\u001b[0;32m      3\u001b[0m print(\n\u001b[0;32m      4\u001b[0m     f\"Normal Neural Network - Loss: {model_loss}, Accuracy: {model_accuracy}\")\n",
      "\u001b[1;31mNameError\u001b[0m: name 'voice_model' is not defined"
     ]
    }
   ],
   "source": [
    "# model_loss, model_accuracy = voice_model.evaluate(\n",
    "#     X_test_scaled, y_test_categorical, verbose=2)\n",
    "# print(\n",
    "#     f\"Normal Neural Network - Loss: {model_loss}, Accuracy: {model_accuracy}\")"
   ]
  },
  {
   "cell_type": "code",
   "execution_count": null,
   "metadata": {},
   "outputs": [],
   "source": [
    "new_df = default_df.copy()"
   ]
  },
  {
   "cell_type": "markdown",
   "metadata": {},
   "source": [
    "# Build form"
   ]
  },
  {
   "cell_type": "code",
   "execution_count": null,
   "metadata": {},
   "outputs": [],
   "source": [
    "features = [\"Team\", \"Opponent\", \"Third\", \"Third Allowed\", \"TOP\", \"First Downs\",\n",
    "               \"First Downs Allowed\", \"Home or Away\", \"Pass Yards\", \"Pass Yards Allowed\",\n",
    "               \"Penalty Yards\", \"Plays\", \"Rush Yards\", \"Rush Yards Allowed\", \"Sacked\", \"Sacks\",\n",
    "               \"Takeaways\", \"Total Yards\", \"Total Yards Allowed\", \"Turnovers\"]\n",
    "\n",
    "form_names = [\"team\", \"opponent\", \"third\", \"third_allowed\", \"top\", \"first_downs\",\n",
    "                  \"first_downs_allowed\", \"ha\", \"pass_yards\", \"pass_yards_allowed\", \"penalty_yards\",\n",
    "                  \"plays\", \"rush_yards\", \"rush_yards_allowed\", \"sacked\", \"sacks\", \"takeaways\",\n",
    "                  \"total_yards\", \"total_yards_allowed\", \"turnovers\"]\n",
    "\n",
    "placeholders = [\"team\", \"opponent\", \"third\", \"third-allowed\", \"top\", \"first-downs\",\n",
    "                    \"first-downs-allowed\", \"ha\", \"pass-yards\", \"pass-yards-allowed\", \"penalty-yards\",\n",
    "                    \"plays\", \"rush-yards\", \"rush-yards-allowed\", \"sacked\", \"sacks\", \"takeaways\",\n",
    "                    \"total-yards\", \"total-yards-allowed\", \"turnovers\"]"
   ]
  },
  {
   "cell_type": "code",
   "execution_count": null,
   "metadata": {},
   "outputs": [],
   "source": [
    "form_df = pd.DataFrame({\n",
    "    \"feature\": features,\n",
    "    \"form_name\": form_names,\n",
    "    \"placeholder\": placeholders\n",
    "})"
   ]
  },
  {
   "cell_type": "code",
   "execution_count": null,
   "metadata": {},
   "outputs": [],
   "source": [
    "form_df.head()"
   ]
  },
  {
   "cell_type": "code",
   "execution_count": null,
   "metadata": {},
   "outputs": [],
   "source": [
    "form_data = form_df.to_dict(orient=\"records\")"
   ]
  },
  {
   "cell_type": "code",
   "execution_count": null,
   "metadata": {},
   "outputs": [],
   "source": [
    "form_data"
   ]
  },
  {
   "cell_type": "code",
   "execution_count": null,
   "metadata": {},
   "outputs": [],
   "source": []
  }
 ],
 "metadata": {
  "kernelspec": {
   "display_name": "Python [conda env:PythonData]",
   "language": "python",
   "name": "conda-env-PythonData-py"
  },
  "language_info": {
   "codemirror_mode": {
    "name": "ipython",
    "version": 3
   },
   "file_extension": ".py",
   "mimetype": "text/x-python",
   "name": "python",
   "nbconvert_exporter": "python",
   "pygments_lexer": "ipython3",
   "version": "3.6.3"
  }
 },
 "nbformat": 4,
 "nbformat_minor": 2
}
