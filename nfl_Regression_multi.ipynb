{
 "cells": [
  {
   "cell_type": "code",
   "execution_count": 1,
   "metadata": {
    "collapsed": true
   },
   "outputs": [],
   "source": [
    "%matplotlib inline\n",
    "import matplotlib.pyplot as plt\n",
    "import numpy as np\n",
    "import pandas as pd"
   ]
  },
  {
   "cell_type": "code",
   "execution_count": 2,
   "metadata": {},
   "outputs": [
    {
     "data": {
      "text/html": [
       "<div>\n",
       "<style>\n",
       "    .dataframe thead tr:only-child th {\n",
       "        text-align: right;\n",
       "    }\n",
       "\n",
       "    .dataframe thead th {\n",
       "        text-align: left;\n",
       "    }\n",
       "\n",
       "    .dataframe tbody tr th {\n",
       "        vertical-align: top;\n",
       "    }\n",
       "</style>\n",
       "<table border=\"1\" class=\"dataframe\">\n",
       "  <thead>\n",
       "    <tr style=\"text-align: right;\">\n",
       "      <th></th>\n",
       "      <th>3d%</th>\n",
       "      <th>3d%_allowed</th>\n",
       "      <th>TOP</th>\n",
       "      <th>date</th>\n",
       "      <th>first_downs</th>\n",
       "      <th>first_downs_allowed</th>\n",
       "      <th>ha</th>\n",
       "      <th>margin</th>\n",
       "      <th>opp</th>\n",
       "      <th>pass_yards</th>\n",
       "      <th>...</th>\n",
       "      <th>rush_yards</th>\n",
       "      <th>rush_yards_allowed</th>\n",
       "      <th>sacked</th>\n",
       "      <th>sacks</th>\n",
       "      <th>takeaways</th>\n",
       "      <th>team</th>\n",
       "      <th>total_points</th>\n",
       "      <th>total_yards</th>\n",
       "      <th>total_yards_allowed</th>\n",
       "      <th>turnovers</th>\n",
       "    </tr>\n",
       "  </thead>\n",
       "  <tbody>\n",
       "    <tr>\n",
       "      <th>0</th>\n",
       "      <td>0.307692</td>\n",
       "      <td>0.285714</td>\n",
       "      <td>28.350000</td>\n",
       "      <td>9/10/2009</td>\n",
       "      <td>18</td>\n",
       "      <td>19</td>\n",
       "      <td>away</td>\n",
       "      <td>-3</td>\n",
       "      <td>PIT</td>\n",
       "      <td>234</td>\n",
       "      <td>...</td>\n",
       "      <td>86</td>\n",
       "      <td>36</td>\n",
       "      <td>1</td>\n",
       "      <td>4</td>\n",
       "      <td>3</td>\n",
       "      <td>TEN</td>\n",
       "      <td>3</td>\n",
       "      <td>320</td>\n",
       "      <td>357</td>\n",
       "      <td>2</td>\n",
       "    </tr>\n",
       "    <tr>\n",
       "      <th>1</th>\n",
       "      <td>0.285714</td>\n",
       "      <td>0.307692</td>\n",
       "      <td>36.183333</td>\n",
       "      <td>9/10/2009</td>\n",
       "      <td>19</td>\n",
       "      <td>18</td>\n",
       "      <td>home</td>\n",
       "      <td>3</td>\n",
       "      <td>TEN</td>\n",
       "      <td>321</td>\n",
       "      <td>...</td>\n",
       "      <td>36</td>\n",
       "      <td>86</td>\n",
       "      <td>4</td>\n",
       "      <td>1</td>\n",
       "      <td>2</td>\n",
       "      <td>PIT</td>\n",
       "      <td>3</td>\n",
       "      <td>357</td>\n",
       "      <td>320</td>\n",
       "      <td>3</td>\n",
       "    </tr>\n",
       "    <tr>\n",
       "      <th>2</th>\n",
       "      <td>0.363636</td>\n",
       "      <td>0.400000</td>\n",
       "      <td>29.116667</td>\n",
       "      <td>9/13/2009</td>\n",
       "      <td>16</td>\n",
       "      <td>19</td>\n",
       "      <td>away</td>\n",
       "      <td>-12</td>\n",
       "      <td>ATL</td>\n",
       "      <td>163</td>\n",
       "      <td>...</td>\n",
       "      <td>96</td>\n",
       "      <td>68</td>\n",
       "      <td>4</td>\n",
       "      <td>2</td>\n",
       "      <td>0</td>\n",
       "      <td>MIA</td>\n",
       "      <td>26</td>\n",
       "      <td>259</td>\n",
       "      <td>281</td>\n",
       "      <td>4</td>\n",
       "    </tr>\n",
       "    <tr>\n",
       "      <th>3</th>\n",
       "      <td>0.400000</td>\n",
       "      <td>0.363636</td>\n",
       "      <td>30.883333</td>\n",
       "      <td>9/13/2009</td>\n",
       "      <td>19</td>\n",
       "      <td>16</td>\n",
       "      <td>home</td>\n",
       "      <td>12</td>\n",
       "      <td>MIA</td>\n",
       "      <td>213</td>\n",
       "      <td>...</td>\n",
       "      <td>68</td>\n",
       "      <td>96</td>\n",
       "      <td>2</td>\n",
       "      <td>4</td>\n",
       "      <td>4</td>\n",
       "      <td>ATL</td>\n",
       "      <td>26</td>\n",
       "      <td>281</td>\n",
       "      <td>259</td>\n",
       "      <td>0</td>\n",
       "    </tr>\n",
       "    <tr>\n",
       "      <th>4</th>\n",
       "      <td>0.250000</td>\n",
       "      <td>0.333333</td>\n",
       "      <td>26.550000</td>\n",
       "      <td>9/13/2009</td>\n",
       "      <td>10</td>\n",
       "      <td>16</td>\n",
       "      <td>away</td>\n",
       "      <td>5</td>\n",
       "      <td>CIN</td>\n",
       "      <td>227</td>\n",
       "      <td>...</td>\n",
       "      <td>75</td>\n",
       "      <td>86</td>\n",
       "      <td>3</td>\n",
       "      <td>3</td>\n",
       "      <td>2</td>\n",
       "      <td>DEN</td>\n",
       "      <td>19</td>\n",
       "      <td>302</td>\n",
       "      <td>307</td>\n",
       "      <td>0</td>\n",
       "    </tr>\n",
       "  </tbody>\n",
       "</table>\n",
       "<p>5 rows × 26 columns</p>\n",
       "</div>"
      ],
      "text/plain": [
       "        3d%  3d%_allowed        TOP       date  first_downs  \\\n",
       "0  0.307692     0.285714  28.350000  9/10/2009           18   \n",
       "1  0.285714     0.307692  36.183333  9/10/2009           19   \n",
       "2  0.363636     0.400000  29.116667  9/13/2009           16   \n",
       "3  0.400000     0.363636  30.883333  9/13/2009           19   \n",
       "4  0.250000     0.333333  26.550000  9/13/2009           10   \n",
       "\n",
       "   first_downs_allowed    ha  margin  opp  pass_yards    ...      rush_yards  \\\n",
       "0                   19  away      -3  PIT         234    ...              86   \n",
       "1                   18  home       3  TEN         321    ...              36   \n",
       "2                   19  away     -12  ATL         163    ...              96   \n",
       "3                   16  home      12  MIA         213    ...              68   \n",
       "4                   16  away       5  CIN         227    ...              75   \n",
       "\n",
       "   rush_yards_allowed  sacked  sacks  takeaways team  total_points  \\\n",
       "0                  36       1      4          3  TEN             3   \n",
       "1                  86       4      1          2  PIT             3   \n",
       "2                  68       4      2          0  MIA            26   \n",
       "3                  96       2      4          4  ATL            26   \n",
       "4                  86       3      3          2  DEN            19   \n",
       "\n",
       "   total_yards  total_yards_allowed  turnovers  \n",
       "0          320                  357          2  \n",
       "1          357                  320          3  \n",
       "2          259                  281          4  \n",
       "3          281                  259          0  \n",
       "4          302                  307          0  \n",
       "\n",
       "[5 rows x 26 columns]"
      ]
     },
     "execution_count": 2,
     "metadata": {},
     "output_type": "execute_result"
    }
   ],
   "source": [
    "# Read the csv file into a pandas DataFrame\n",
    "nfl = pd.read_csv('data/nfl.csv')\n",
    "nfl.head()"
   ]
  },
  {
   "cell_type": "code",
   "execution_count": 3,
   "metadata": {},
   "outputs": [
    {
     "data": {
      "text/plain": [
       "Index(['3d%', '3d%_allowed', 'TOP', 'date', 'first_downs',\n",
       "       'first_downs_allowed', 'ha', 'margin', 'opp', 'pass_yards',\n",
       "       'pass_yards_allowed', 'penalty_yards', 'plays', 'points',\n",
       "       'points_allowed', 'result', 'rush_yards', 'rush_yards_allowed',\n",
       "       'sacked', 'sacks', 'takeaways', 'team', 'total_points', 'total_yards',\n",
       "       'total_yards_allowed', 'turnovers'],\n",
       "      dtype='object')"
      ]
     },
     "execution_count": 3,
     "metadata": {},
     "output_type": "execute_result"
    }
   ],
   "source": [
    "nfl.columns"
   ]
  },
  {
   "cell_type": "code",
   "execution_count": 4,
   "metadata": {},
   "outputs": [
    {
     "name": "stdout",
     "output_type": "stream",
     "text": [
      "(4806, 2) (4806, 1)\n"
     ]
    }
   ],
   "source": [
    "# Assign X and y\n",
    "\n",
    "X = nfl[[\"pass_yards\", \"rush_yards\"]]\n",
    "y = nfl[\"points\"].values.reshape(-1, 1)\n",
    "print(X.shape, y.shape)"
   ]
  },
  {
   "cell_type": "code",
   "execution_count": 5,
   "metadata": {
    "collapsed": true
   },
   "outputs": [],
   "source": [
    "#plt.scatter(X, y)"
   ]
  },
  {
   "cell_type": "code",
   "execution_count": 6,
   "metadata": {},
   "outputs": [
    {
     "name": "stdout",
     "output_type": "stream",
     "text": [
      "R2 Score: 0.2583722760234307\n"
     ]
    }
   ],
   "source": [
    "from sklearn.linear_model import LinearRegression\n",
    "model = LinearRegression()\n",
    "\n",
    "# Fitting our model with all of our features in X\n",
    "model.fit(X, y)\n",
    "\n",
    "score = model.score(X, y)\n",
    "print(f\"R2 Score: {score}\")"
   ]
  },
  {
   "cell_type": "code",
   "execution_count": 7,
   "metadata": {},
   "outputs": [
    {
     "data": {
      "image/png": "[encoded data removed]",
      "text/plain": [
       "<matplotlib.figure.Figure at 0x2849e5095c0>"
      ]
     },
     "metadata": {},
     "output_type": "display_data"
    }
   ],
   "source": [
    "predictions = model.predict(X)\n",
    "# Plot Residuals\n",
    "plt.scatter(predictions, predictions - y)\n",
    "plt.hlines(y=0, xmin=predictions.min(), xmax=predictions.max())\n",
    "plt.show()"
   ]
  },
  {
   "cell_type": "code",
   "execution_count": null,
   "metadata": {
    "collapsed": true
   },
   "outputs": [],
   "source": []
  },
  {
   "cell_type": "code",
   "execution_count": null,
   "metadata": {
    "collapsed": true
   },
   "outputs": [],
   "source": []
  },
  {
   "cell_type": "code",
   "execution_count": null,
   "metadata": {
    "collapsed": true
   },
   "outputs": [],
   "source": []
  },
  {
   "cell_type": "code",
   "execution_count": null,
   "metadata": {
    "collapsed": true
   },
   "outputs": [],
   "source": []
  },
  {
   "cell_type": "code",
   "execution_count": null,
   "metadata": {
    "collapsed": true
   },
   "outputs": [],
   "source": []
  },
  {
   "cell_type": "code",
   "execution_count": null,
   "metadata": {
    "collapsed": true
   },
   "outputs": [],
   "source": []
  },
  {
   "cell_type": "code",
   "execution_count": null,
   "metadata": {
    "collapsed": true
   },
   "outputs": [],
   "source": []
  },
  {
   "cell_type": "code",
   "execution_count": null,
   "metadata": {
    "collapsed": true
   },
   "outputs": [],
   "source": []
  },
  {
   "cell_type": "code",
   "execution_count": null,
   "metadata": {
    "collapsed": true
   },
   "outputs": [],
   "source": []
  },
  {
   "cell_type": "code",
   "execution_count": null,
   "metadata": {
    "collapsed": true
   },
   "outputs": [],
   "source": []
  }
 ],
 "metadata": {
  "kernelspec": {
   "display_name": "Python [conda env:PythonData]",
   "language": "python",
   "name": "conda-env-PythonData-py"
  },
  "language_info": {
   "codemirror_mode": {
    "name": "ipython",
    "version": 3
   },
   "file_extension": ".py",
   "mimetype": "text/x-python",
   "name": "python",
   "nbconvert_exporter": "python",
   "pygments_lexer": "ipython3",
   "version": "3.6.3"
  }
 },
 "nbformat": 4,
 "nbformat_minor": 2
}
