{
 "cells": [
  {
   "cell_type": "code",
   "execution_count": 1,
   "metadata": {
    "collapsed": true
   },
   "outputs": [],
   "source": [
    "%matplotlib inline\n",
    "import matplotlib.pyplot as plt\n",
    "import numpy as np\n",
    "import pandas as pd"
   ]
  },
  {
   "cell_type": "code",
   "execution_count": 2,
   "metadata": {},
   "outputs": [
    {
     "data": {
      "text/html": [
       "<div>\n",
       "<style>\n",
       "    .dataframe thead tr:only-child th {\n",
       "        text-align: right;\n",
       "    }\n",
       "\n",
       "    .dataframe thead th {\n",
       "        text-align: left;\n",
       "    }\n",
       "\n",
       "    .dataframe tbody tr th {\n",
       "        vertical-align: top;\n",
       "    }\n",
       "</style>\n",
       "<table border=\"1\" class=\"dataframe\">\n",
       "  <thead>\n",
       "    <tr style=\"text-align: right;\">\n",
       "      <th></th>\n",
       "      <th>Unnamed: 0</th>\n",
       "      <th>3d%</th>\n",
       "      <th>3d%_allowed</th>\n",
       "      <th>TOP</th>\n",
       "      <th>date</th>\n",
       "      <th>first_downs</th>\n",
       "      <th>first_downs_allowed</th>\n",
       "      <th>margin</th>\n",
       "      <th>opp</th>\n",
       "      <th>pass_yards</th>\n",
       "      <th>...</th>\n",
       "      <th>rush_yards</th>\n",
       "      <th>rush_yards_allowed</th>\n",
       "      <th>sacked</th>\n",
       "      <th>sacks</th>\n",
       "      <th>takeaways</th>\n",
       "      <th>team</th>\n",
       "      <th>total_points</th>\n",
       "      <th>total_yards</th>\n",
       "      <th>total_yards_allowed</th>\n",
       "      <th>turnovers</th>\n",
       "    </tr>\n",
       "  </thead>\n",
       "  <tbody>\n",
       "    <tr>\n",
       "      <th>0</th>\n",
       "      <td>0</td>\n",
       "      <td>0.363636</td>\n",
       "      <td>0.333333</td>\n",
       "      <td>30.233333</td>\n",
       "      <td>09/07/2017</td>\n",
       "      <td>26</td>\n",
       "      <td>25</td>\n",
       "      <td>15</td>\n",
       "      <td>New EnglandNE</td>\n",
       "      <td>352</td>\n",
       "      <td>...</td>\n",
       "      <td>185</td>\n",
       "      <td>124</td>\n",
       "      <td>3</td>\n",
       "      <td>3</td>\n",
       "      <td>0</td>\n",
       "      <td>Kansas CityKC</td>\n",
       "      <td>69</td>\n",
       "      <td>537</td>\n",
       "      <td>371</td>\n",
       "      <td>1</td>\n",
       "    </tr>\n",
       "    <tr>\n",
       "      <th>1</th>\n",
       "      <td>1</td>\n",
       "      <td>0.333333</td>\n",
       "      <td>0.363636</td>\n",
       "      <td>29.766667</td>\n",
       "      <td>09/07/2017</td>\n",
       "      <td>25</td>\n",
       "      <td>26</td>\n",
       "      <td>-15</td>\n",
       "      <td>Kansas CityKC</td>\n",
       "      <td>247</td>\n",
       "      <td>...</td>\n",
       "      <td>124</td>\n",
       "      <td>185</td>\n",
       "      <td>3</td>\n",
       "      <td>3</td>\n",
       "      <td>1</td>\n",
       "      <td>New EnglandNE</td>\n",
       "      <td>69</td>\n",
       "      <td>371</td>\n",
       "      <td>537</td>\n",
       "      <td>0</td>\n",
       "    </tr>\n",
       "    <tr>\n",
       "      <th>2</th>\n",
       "      <td>2</td>\n",
       "      <td>0.400000</td>\n",
       "      <td>0.500000</td>\n",
       "      <td>26.666667</td>\n",
       "      <td>09/10/2017</td>\n",
       "      <td>24</td>\n",
       "      <td>19</td>\n",
       "      <td>-12</td>\n",
       "      <td>DetroitDet</td>\n",
       "      <td>263</td>\n",
       "      <td>...</td>\n",
       "      <td>45</td>\n",
       "      <td>82</td>\n",
       "      <td>1</td>\n",
       "      <td>1</td>\n",
       "      <td>1</td>\n",
       "      <td>ArizonaAri</td>\n",
       "      <td>58</td>\n",
       "      <td>308</td>\n",
       "      <td>367</td>\n",
       "      <td>4</td>\n",
       "    </tr>\n",
       "    <tr>\n",
       "      <th>3</th>\n",
       "      <td>3</td>\n",
       "      <td>0.500000</td>\n",
       "      <td>0.400000</td>\n",
       "      <td>33.333333</td>\n",
       "      <td>09/10/2017</td>\n",
       "      <td>19</td>\n",
       "      <td>24</td>\n",
       "      <td>12</td>\n",
       "      <td>ArizonaAri</td>\n",
       "      <td>285</td>\n",
       "      <td>...</td>\n",
       "      <td>82</td>\n",
       "      <td>45</td>\n",
       "      <td>1</td>\n",
       "      <td>1</td>\n",
       "      <td>4</td>\n",
       "      <td>DetroitDet</td>\n",
       "      <td>58</td>\n",
       "      <td>367</td>\n",
       "      <td>308</td>\n",
       "      <td>1</td>\n",
       "    </tr>\n",
       "    <tr>\n",
       "      <th>4</th>\n",
       "      <td>4</td>\n",
       "      <td>0.454545</td>\n",
       "      <td>0.384615</td>\n",
       "      <td>30.566667</td>\n",
       "      <td>09/10/2017</td>\n",
       "      <td>18</td>\n",
       "      <td>20</td>\n",
       "      <td>6</td>\n",
       "      <td>ChicagoChi</td>\n",
       "      <td>308</td>\n",
       "      <td>...</td>\n",
       "      <td>64</td>\n",
       "      <td>125</td>\n",
       "      <td>2</td>\n",
       "      <td>4</td>\n",
       "      <td>0</td>\n",
       "      <td>AtlantaAtl</td>\n",
       "      <td>40</td>\n",
       "      <td>372</td>\n",
       "      <td>301</td>\n",
       "      <td>0</td>\n",
       "    </tr>\n",
       "  </tbody>\n",
       "</table>\n",
       "<p>5 rows × 26 columns</p>\n",
       "</div>"
      ],
      "text/plain": [
       "   Unnamed: 0       3d%  3d%_allowed        TOP        date  first_downs  \\\n",
       "0           0  0.363636     0.333333  30.233333  09/07/2017           26   \n",
       "1           1  0.333333     0.363636  29.766667  09/07/2017           25   \n",
       "2           2  0.400000     0.500000  26.666667  09/10/2017           24   \n",
       "3           3  0.500000     0.400000  33.333333  09/10/2017           19   \n",
       "4           4  0.454545     0.384615  30.566667  09/10/2017           18   \n",
       "\n",
       "   first_downs_allowed  margin            opp  pass_yards    ...      \\\n",
       "0                   25      15  New EnglandNE         352    ...       \n",
       "1                   26     -15  Kansas CityKC         247    ...       \n",
       "2                   19     -12     DetroitDet         263    ...       \n",
       "3                   24      12     ArizonaAri         285    ...       \n",
       "4                   20       6     ChicagoChi         308    ...       \n",
       "\n",
       "   rush_yards  rush_yards_allowed  sacked  sacks  takeaways           team  \\\n",
       "0         185                 124       3      3          0  Kansas CityKC   \n",
       "1         124                 185       3      3          1  New EnglandNE   \n",
       "2          45                  82       1      1          1     ArizonaAri   \n",
       "3          82                  45       1      1          4     DetroitDet   \n",
       "4          64                 125       2      4          0     AtlantaAtl   \n",
       "\n",
       "   total_points  total_yards  total_yards_allowed  turnovers  \n",
       "0            69          537                  371          1  \n",
       "1            69          371                  537          0  \n",
       "2            58          308                  367          4  \n",
       "3            58          367                  308          1  \n",
       "4            40          372                  301          0  \n",
       "\n",
       "[5 rows x 26 columns]"
      ]
     },
     "execution_count": 2,
     "metadata": {},
     "output_type": "execute_result"
    }
   ],
   "source": [
    "# Read the csv file into a pandas DataFrame\n",
    "nfl = pd.read_csv('data/nfl_2017.csv')\n",
    "nfl.head()"
   ]
  },
  {
   "cell_type": "code",
   "execution_count": 3,
   "metadata": {},
   "outputs": [
    {
     "data": {
      "text/plain": [
       "Index(['Unnamed: 0', '3d%', '3d%_allowed', 'TOP', 'date', 'first_downs',\n",
       "       'first_downs_allowed', 'margin', 'opp', 'pass_yards',\n",
       "       'pass_yards_allowed', 'penalty_yards', 'plays', 'points',\n",
       "       'points_allowed', 'result', 'rush_yards', 'rush_yards_allowed',\n",
       "       'sacked', 'sacks', 'takeaways', 'team', 'total_points', 'total_yards',\n",
       "       'total_yards_allowed', 'turnovers'],\n",
       "      dtype='object')"
      ]
     },
     "execution_count": 3,
     "metadata": {},
     "output_type": "execute_result"
    }
   ],
   "source": [
    "nfl.columns"
   ]
  },
  {
   "cell_type": "code",
   "execution_count": 4,
   "metadata": {},
   "outputs": [
    {
     "name": "stdout",
     "output_type": "stream",
     "text": [
      "(534, 2) (534, 1)\n"
     ]
    }
   ],
   "source": [
    "# Assign X and y\n",
    "\n",
    "X = nfl[[\"pass_yards\", \"rush_yards\"]]\n",
    "y = nfl[\"points\"].values.reshape(-1, 1)\n",
    "print(X.shape, y.shape)"
   ]
  },
  {
   "cell_type": "code",
   "execution_count": 5,
   "metadata": {
    "collapsed": true
   },
   "outputs": [],
   "source": [
    "#plt.scatter(X, y)"
   ]
  },
  {
   "cell_type": "code",
   "execution_count": 6,
   "metadata": {},
   "outputs": [
    {
     "name": "stdout",
     "output_type": "stream",
     "text": [
      "R2 Score: 0.3446404145773414\n"
     ]
    }
   ],
   "source": [
    "from sklearn.linear_model import LinearRegression\n",
    "model = LinearRegression()\n",
    "\n",
    "# Fitting our model with all of our features in X\n",
    "model.fit(X, y)\n",
    "\n",
    "score = model.score(X, y)\n",
    "print(f\"R2 Score: {score}\")"
   ]
  },
  {
   "cell_type": "code",
   "execution_count": 7,
   "metadata": {},
   "outputs": [
    {
     "data": {
      "image/png": "[encoded data removed]",
      "text/plain": [
       "<matplotlib.figure.Figure at 0x1e9a88d15c0>"
      ]
     },
     "metadata": {},
     "output_type": "display_data"
    }
   ],
   "source": [
    "predictions = model.predict(X)\n",
    "# Plot Residuals\n",
    "plt.scatter(predictions, predictions - y)\n",
    "plt.hlines(y=0, xmin=predictions.min(), xmax=predictions.max())\n",
    "plt.show()"
   ]
  },
  {
   "cell_type": "code",
   "execution_count": null,
   "metadata": {
    "collapsed": true
   },
   "outputs": [],
   "source": []
  },
  {
   "cell_type": "code",
   "execution_count": null,
   "metadata": {
    "collapsed": true
   },
   "outputs": [],
   "source": []
  },
  {
   "cell_type": "code",
   "execution_count": null,
   "metadata": {
    "collapsed": true
   },
   "outputs": [],
   "source": []
  },
  {
   "cell_type": "code",
   "execution_count": null,
   "metadata": {
    "collapsed": true
   },
   "outputs": [],
   "source": []
  },
  {
   "cell_type": "code",
   "execution_count": null,
   "metadata": {
    "collapsed": true
   },
   "outputs": [],
   "source": []
  },
  {
   "cell_type": "code",
   "execution_count": null,
   "metadata": {
    "collapsed": true
   },
   "outputs": [],
   "source": []
  },
  {
   "cell_type": "code",
   "execution_count": null,
   "metadata": {
    "collapsed": true
   },
   "outputs": [],
   "source": []
  },
  {
   "cell_type": "code",
   "execution_count": null,
   "metadata": {
    "collapsed": true
   },
   "outputs": [],
   "source": []
  },
  {
   "cell_type": "code",
   "execution_count": null,
   "metadata": {
    "collapsed": true
   },
   "outputs": [],
   "source": []
  },
  {
   "cell_type": "code",
   "execution_count": null,
   "metadata": {
    "collapsed": true
   },
   "outputs": [],
   "source": []
  }
 ],
 "metadata": {
  "kernelspec": {
   "display_name": "Python [conda env:PythonData]",
   "language": "python",
   "name": "conda-env-PythonData-py"
  },
  "language_info": {
   "codemirror_mode": {
    "name": "ipython",
    "version": 3
   },
   "file_extension": ".py",
   "mimetype": "text/x-python",
   "name": "python",
   "nbconvert_exporter": "python",
   "pygments_lexer": "ipython3",
   "version": "3.6.3"
  }
 },
 "nbformat": 4,
 "nbformat_minor": 2
}
