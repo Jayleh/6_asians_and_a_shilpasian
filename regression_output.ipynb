{
 "cells": [
  {
   "cell_type": "code",
   "execution_count": 1,
   "metadata": {},
   "outputs": [],
   "source": [
    "from statsmodels.iolib.smpickle import load_pickle\n",
    "import pandas as pd\n",
    "import numpy as np"
   ]
  },
  {
   "cell_type": "code",
   "execution_count": 2,
   "metadata": {},
   "outputs": [],
   "source": [
    "margin_res = load_pickle(\"models/margin_res.pickle\")\n",
    "total_res = load_pickle(\"models/total_res.pickle\")"
   ]
  },
  {
   "cell_type": "code",
   "execution_count": 3,
   "metadata": {},
   "outputs": [
    {
     "data": {
      "text/html": [
       "<div>\n",
       "<style>\n",
       "    .dataframe thead tr:only-child th {\n",
       "        text-align: right;\n",
       "    }\n",
       "\n",
       "    .dataframe thead th {\n",
       "        text-align: left;\n",
       "    }\n",
       "\n",
       "    .dataframe tbody tr th {\n",
       "        vertical-align: top;\n",
       "    }\n",
       "</style>\n",
       "<table border=\"1\" class=\"dataframe\">\n",
       "  <thead>\n",
       "    <tr style=\"text-align: right;\">\n",
       "      <th></th>\n",
       "      <th>TOP</th>\n",
       "      <th>first_downs</th>\n",
       "      <th>first_downs_allowed</th>\n",
       "      <th>ha</th>\n",
       "      <th>opp</th>\n",
       "      <th>pass_yards</th>\n",
       "      <th>pass_yards_allowed</th>\n",
       "      <th>penalty_yards</th>\n",
       "      <th>plays</th>\n",
       "      <th>rush_yards</th>\n",
       "      <th>rush_yards_allowed</th>\n",
       "      <th>sacked</th>\n",
       "      <th>sacks</th>\n",
       "      <th>takeaways</th>\n",
       "      <th>team</th>\n",
       "      <th>third_per</th>\n",
       "      <th>third_per_allowed</th>\n",
       "      <th>total_yards</th>\n",
       "      <th>total_yards_allowed</th>\n",
       "      <th>turnovers</th>\n",
       "    </tr>\n",
       "  </thead>\n",
       "  <tbody>\n",
       "    <tr>\n",
       "      <th>0</th>\n",
       "      <td>28.9</td>\n",
       "      <td>23</td>\n",
       "      <td>19</td>\n",
       "      <td>home</td>\n",
       "      <td>ARI</td>\n",
       "      <td>345</td>\n",
       "      <td>249</td>\n",
       "      <td>112</td>\n",
       "      <td>82</td>\n",
       "      <td>122</td>\n",
       "      <td>186</td>\n",
       "      <td>4</td>\n",
       "      <td>3</td>\n",
       "      <td>2</td>\n",
       "      <td>GBP</td>\n",
       "      <td>0.452</td>\n",
       "      <td>0.324</td>\n",
       "      <td>467</td>\n",
       "      <td>435</td>\n",
       "      <td>1</td>\n",
       "    </tr>\n",
       "    <tr>\n",
       "      <th>1</th>\n",
       "      <td>31.1</td>\n",
       "      <td>19</td>\n",
       "      <td>23</td>\n",
       "      <td>away</td>\n",
       "      <td>GBP</td>\n",
       "      <td>249</td>\n",
       "      <td>345</td>\n",
       "      <td>81</td>\n",
       "      <td>73</td>\n",
       "      <td>186</td>\n",
       "      <td>122</td>\n",
       "      <td>3</td>\n",
       "      <td>4</td>\n",
       "      <td>1</td>\n",
       "      <td>ARI</td>\n",
       "      <td>0.324</td>\n",
       "      <td>0.452</td>\n",
       "      <td>435</td>\n",
       "      <td>467</td>\n",
       "      <td>2</td>\n",
       "    </tr>\n",
       "  </tbody>\n",
       "</table>\n",
       "</div>"
      ],
      "text/plain": [
       "    TOP  first_downs  first_downs_allowed    ha  opp  pass_yards  \\\n",
       "0  28.9           23                   19  home  ARI         345   \n",
       "1  31.1           19                   23  away  GBP         249   \n",
       "\n",
       "   pass_yards_allowed  penalty_yards  plays  rush_yards  rush_yards_allowed  \\\n",
       "0                 249            112     82         122                 186   \n",
       "1                 345             81     73         186                 122   \n",
       "\n",
       "   sacked  sacks  takeaways team  third_per  third_per_allowed  total_yards  \\\n",
       "0       4      3          2  GBP      0.452              0.324          467   \n",
       "1       3      4          1  ARI      0.324              0.452          435   \n",
       "\n",
       "   total_yards_allowed  turnovers  \n",
       "0                  435          1  \n",
       "1                  467          2  "
      ]
     },
     "execution_count": 3,
     "metadata": {},
     "output_type": "execute_result"
    }
   ],
   "source": [
    "team = \"GBP\"\n",
    "opponent = \"ARI\"\n",
    "third = .452\n",
    "third_allowed = .324\n",
    "top = 28.90\n",
    "a_top = 31.10\n",
    "first_downs = 23\n",
    "first_downs_allowed = 19\n",
    "pass_yards = 345\n",
    "pass_yards_allowed = 249\n",
    "penalty_yards = 112\n",
    "a_penalty_yards = 81\n",
    "plays = 82\n",
    "a_plays = 73\n",
    "rush_yards = 122\n",
    "rush_yards_allowed = 186\n",
    "sacked = 4\n",
    "sacks = 3\n",
    "takeaways = 2\n",
    "total_yards = 467\n",
    "total_yards_allowed = 435\n",
    "turnovers = 1\n",
    "\n",
    "home_dictionary = {\"ha\": \"home\", \"team\": team, \"opp\": opponent, \"third_per\": third, \"third_per_allowed\": third_allowed, \n",
    "                   \"TOP\": top, \"first_downs\": first_downs, \"first_downs_allowed\": first_downs_allowed, \"pass_yards\": pass_yards,\n",
    "                   \"pass_yards_allowed\": pass_yards_allowed, \"penalty_yards\": penalty_yards, \"plays\": plays, \n",
    "                   \"rush_yards\": rush_yards, \"rush_yards_allowed\": rush_yards_allowed, \"sacks\": sacks, \"sacked\": sacked,\n",
    "                   \"takeaways\": takeaways, \"turnovers\": turnovers, \"total_yards\": total_yards, \n",
    "                   \"total_yards_allowed\": total_yards_allowed}\n",
    "\n",
    "away_dictionary = {\"ha\": \"away\", \"team\": opponent, \"opp\": team, \"third_per\": third_allowed, \"third_per_allowed\": third, \n",
    "                   \"TOP\": a_top, \"first_downs\": first_downs_allowed, \"first_downs_allowed\": first_downs, \n",
    "                   \"pass_yards\": pass_yards_allowed, \"pass_yards_allowed\": pass_yards, \"penalty_yards\": a_penalty_yards, \n",
    "                   \"plays\": a_plays, \"rush_yards\": rush_yards_allowed, \"rush_yards_allowed\": rush_yards, \"sacks\": sacked,\n",
    "                   \"sacked\": sacks, \"takeaways\": turnovers, \"turnovers\": takeaways, \"total_yards\": total_yards_allowed, \n",
    "                   \"total_yards_allowed\": total_yards}\n",
    "\n",
    "stats_dicts = [home_dictionary, away_dictionary]\n",
    "nfl = pd.DataFrame(stats_dicts)"
   ]
  },
  {
   "cell_type": "code",
   "execution_count": 8,
   "metadata": {},
   "outputs": [
    {
     "name": "stdout",
     "output_type": "stream",
     "text": [
      "[17.847323304044721, -17.847323304044721]\n"
     ]
    }
   ],
   "source": [
    "margin_ari_score = 0\n",
    "margin_ari_opp = 0\n",
    "margins = []\n",
    "for key, row in nfl.iterrows():\n",
    "    if row.team == \"ARI\":\n",
    "        team_coeff = margin_ari_score\n",
    "    else:\n",
    "        res_team = \"team[T.\" + row.team + \"]\"\n",
    "        team_coeff = margin_res.params[res_team]\n",
    "    if row.opp == \"ARI\":\n",
    "        opp_coeff = margin_ari_opp\n",
    "    else:\n",
    "        res_opp = \"team[T.\" + row.opp + \"]\"\n",
    "        opp_coeff = margin_res.params[res_opp]\n",
    "    if row.ha == \"away\":\n",
    "        ha_coeff = margin_res.params[\"ha[T.home]\"]*-1\n",
    "    else:\n",
    "        ha_coeff = margin_res.params[\"ha[T.home]\"]*1\n",
    "    margin_predict = margin_res.params.Intercept + margin_res.params.third_per*row['third_per'] + margin_res.params.third_per_allowed*row['third_per_allowed'] + margin_res.params.TOP*row['TOP'] + margin_res.params.first_downs*row['first_downs'] + margin_res.params.first_downs_allowed*row['first_downs_allowed'] + margin_res.params.pass_yards*row['pass_yards'] + margin_res.params.pass_yards_allowed*row['pass_yards_allowed'] + margin_res.params.penalty_yards*row['penalty_yards'] + margin_res.params.plays*row['plays'] + margin_res.params.rush_yards*row['rush_yards'] + margin_res.params.rush_yards_allowed*row['rush_yards_allowed'] + margin_res.params.sacked*row['sacked'] + margin_res.params.sacks*row['sacks'] + margin_res.params.takeaways*row['takeaways'] + margin_res.params.total_yards*row['total_yards'] + margin_res.params.total_yards_allowed*row['total_yards_allowed'] + margin_res.params.turnovers*row['turnovers'] + ha_coeff + team_coeff + opp_coeff\n",
    "    margins.append(margin_predict)\n",
    "away_margin = margins[0] + margins[1]\n",
    "home_margin = -1*away_margin\n",
    "pred_margins = [home_margin, away_margin]\n",
    "print (pred_margins)"
   ]
  },
  {
   "cell_type": "code",
   "execution_count": 9,
   "metadata": {},
   "outputs": [
    {
     "name": "stdout",
     "output_type": "stream",
     "text": [
      "[50.504265490428743, 50.504265490428743]\n"
     ]
    }
   ],
   "source": [
    "total_ari_score = 0\n",
    "total_ari_opp = 0\n",
    "totals = []\n",
    "for key, row in nfl.iterrows():\n",
    "    if row.team == \"ARI\":\n",
    "        team_coeff = total_ari_score\n",
    "    else:\n",
    "        res_team = \"team[T.\" + row.team + \"]\"\n",
    "        team_coeff = total_res.params[res_team]\n",
    "    if row.opp == \"ARI\":\n",
    "        opp_coeff = total_ari_opp\n",
    "    else:\n",
    "        res_opp = \"team[T.\" + row.opp + \"]\"\n",
    "        opp_coeff = total_res.params[res_opp]\n",
    "    if row.ha == \"away\":\n",
    "        ha_coeff = total_res.params[\"ha[T.home]\"]*-1\n",
    "    else:\n",
    "        ha_coeff = total_res.params[\"ha[T.home]\"]*1\n",
    "    total_predict = total_res.params.Intercept + total_res.params.third_per*row['third_per'] + total_res.params.third_per_allowed*row['third_per_allowed'] + total_res.params.TOP*row['TOP'] + total_res.params.first_downs*row['first_downs'] + total_res.params.first_downs_allowed*row['first_downs_allowed'] + total_res.params.pass_yards*row['pass_yards'] + total_res.params.pass_yards_allowed*row['pass_yards_allowed'] + total_res.params.penalty_yards*row['penalty_yards'] + total_res.params.plays*row['plays'] + total_res.params.rush_yards*row['rush_yards'] + total_res.params.rush_yards_allowed*row['rush_yards_allowed'] + total_res.params.sacked*row['sacked'] + total_res.params.sacks*row['sacks'] + total_res.params.takeaways*row['takeaways'] + total_res.params.total_yards*row['total_yards'] + total_res.params.total_yards_allowed*row['total_yards_allowed'] + total_res.params.turnovers*row['turnovers'] + ha_coeff + team_coeff + opp_coeff\n",
    "    totals.append(total_predict)\n",
    "total_predicted = (totals[0] + totals[1])/2\n",
    "pred_totals = [total_predicted, total_predicted]\n",
    "print (pred_totals)"
   ]
  },
  {
   "cell_type": "code",
   "execution_count": 10,
   "metadata": {},
   "outputs": [
    {
     "name": "stdout",
     "output_type": "stream",
     "text": [
      "[34.175794397236729, 16.328471093192015]\n",
      "[16.328471093192011, 34.175794397236729]\n"
     ]
    }
   ],
   "source": [
    "pred_pfs = []\n",
    "pred_pas = []\n",
    "for x in np.arange(len(totals)):\n",
    "    pred_margin = pred_margins[x]\n",
    "    pred_total = pred_totals[x]\n",
    "    a = np.array([[1,1], [1,-1]])\n",
    "    b = np.array([[pred_total], [pred_margin]])\n",
    "    points = np.linalg.solve(a,b)\n",
    "    pf = (points[0][0])\n",
    "    pa = (points[1][0])\n",
    "    pred_pfs.append(pf)\n",
    "    pred_pas.append(pa)\n",
    "print (pred_pfs)\n",
    "print (pred_pas)"
   ]
  },
  {
   "cell_type": "code",
   "execution_count": 7,
   "metadata": {},
   "outputs": [
    {
     "name": "stdout",
     "output_type": "stream",
     "text": [
      "ARI 16.33 @ GBP 34.18\n"
     ]
    }
   ],
   "source": [
    "print(f'{opponent} {round(pred_pas[0], 2)} @ {team} {round(pred_pfs[0], 2)}')"
   ]
  },
  {
   "cell_type": "code",
   "execution_count": null,
   "metadata": {
    "collapsed": true
   },
   "outputs": [],
   "source": []
  }
 ],
 "metadata": {
  "kernelspec": {
   "display_name": "Python [conda env:pythondata]",
   "language": "python",
   "name": "conda-env-pythondata-py"
  },
  "language_info": {
   "codemirror_mode": {
    "name": "ipython",
    "version": 3
   },
   "file_extension": ".py",
   "mimetype": "text/x-python",
   "name": "python",
   "nbconvert_exporter": "python",
   "pygments_lexer": "ipython3",
   "version": "3.6.3"
  }
 },
 "nbformat": 4,
 "nbformat_minor": 2
}
