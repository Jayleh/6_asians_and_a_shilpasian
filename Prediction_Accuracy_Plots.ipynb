{
 "cells": [
  {
   "cell_type": "code",
   "execution_count": 1,
   "metadata": {},
   "outputs": [
    {
     "data": {
      "text/plain": [
       "'2.7.0'"
      ]
     },
     "execution_count": 1,
     "metadata": {},
     "output_type": "execute_result"
    }
   ],
   "source": [
    "import plotly\n",
    "plotly.__version__"
   ]
  },
  {
   "cell_type": "code",
   "execution_count": 2,
   "metadata": {
    "collapsed": true
   },
   "outputs": [],
   "source": [
    "import plotly.plotly as py\n",
    "import plotly.graph_objs as go\n",
    "import plotly.figure_factory as FF\n",
    "\n",
    "import numpy as np\n",
    "import pandas as pd"
   ]
  },
  {
   "cell_type": "code",
   "execution_count": 3,
   "metadata": {},
   "outputs": [
    {
     "data": {
      "text/html": [
       "<iframe id=\"igraph\" scrolling=\"no\" style=\"border:none;\" seamless=\"seamless\" src=\"https://plot.ly/~shilpak/127.embed\" height=\"230px\" width=\"100%\"></iframe>"
      ],
      "text/plain": [
       "<plotly.tools.PlotlyDisplay object>"
      ]
     },
     "execution_count": 3,
     "metadata": {},
     "output_type": "execute_result"
    }
   ],
   "source": [
    "df = pd.read_csv('data/nfl_prediction_new.csv')\n",
    "\n",
    "sample_data_table = FF.create_table(df.head())\n",
    "py.iplot(sample_data_table, filename='sample-data-table')"
   ]
  },
  {
   "cell_type": "code",
   "execution_count": 4,
   "metadata": {},
   "outputs": [
    {
     "data": {
      "text/html": [
       "<iframe id=\"igraph\" scrolling=\"no\" style=\"border:none;\" seamless=\"seamless\" src=\"https://plot.ly/~shilpak/129.embed\" height=\"525px\" width=\"100%\"></iframe>"
      ],
      "text/plain": [
       "<plotly.tools.PlotlyDisplay object>"
      ]
     },
     "execution_count": 4,
     "metadata": {},
     "output_type": "execute_result"
    }
   ],
   "source": [
    "trace1 = go.Scatter(x=df['id'], y=df['margin_diff'], \n",
    "                    hoverinfo = 'y',\n",
    "                    mode='markers',\n",
    "                    marker=dict(size=7,\n",
    "                    line=dict(width=1),\n",
    "                    color=\"pink\"\n",
    "                   ))\n",
    "\n",
    "layout = go.Layout(title='Predicted Margin Accuracy',\n",
    "                   font=dict(size=14, color='#7f7f7f'),\n",
    "                    xaxis=dict(\n",
    "                        title='Games',\n",
    "                        titlefont=dict(\n",
    "                            family='Arial, sans-serif',\n",
    "                            size=14,\n",
    "                            ),\n",
    "                        ticklen=5,\n",
    "                        zeroline=False,\n",
    "                        gridwidth=2,\n",
    "                    ),\n",
    "                    yaxis=dict(\n",
    "                        title='Actual / Predicted Difference',\n",
    "                        titlefont=dict(\n",
    "                            family='Arial, sans-serif',\n",
    "                            size=14,\n",
    "                            ),\n",
    "                        range=[-100, 100],\n",
    "                        ticklen=5,\n",
    "                        gridwidth=2,\n",
    "                    ),\n",
    "                    hovermode='closest',\n",
    "                   plot_bgcolor='rgb(230, 230,230)')\n",
    "\n",
    "fig = go.Figure(data=[trace1], layout=layout)\n",
    "\n",
    "# Plot data in the notebook\n",
    "py.iplot(fig)"
   ]
  },
  {
   "cell_type": "code",
   "execution_count": 5,
   "metadata": {},
   "outputs": [
    {
     "data": {
      "text/html": [
       "<iframe id=\"igraph\" scrolling=\"no\" style=\"border:none;\" seamless=\"seamless\" src=\"https://plot.ly/~shilpak/131.embed\" height=\"525px\" width=\"100%\"></iframe>"
      ],
      "text/plain": [
       "<plotly.tools.PlotlyDisplay object>"
      ]
     },
     "execution_count": 5,
     "metadata": {},
     "output_type": "execute_result"
    }
   ],
   "source": [
    "trace2 = go.Scatter(x=df['id'], y=df['points_diff'], \n",
    "                    hoverinfo = 'y',\n",
    "                    mode='markers',\n",
    "                    marker=dict(size=7,\n",
    "                    line=dict(width=1),\n",
    "                    color=\"blue\"\n",
    "                   ))\n",
    "\n",
    "layout = go.Layout(title='Predicted Points Accuracy',\n",
    "                   font=dict(size=14, color='#7f7f7f'),\n",
    "                    xaxis=dict(\n",
    "                        title='Games',\n",
    "                        titlefont=dict(\n",
    "                            family='Arial, sans-serif',\n",
    "                            size=14,\n",
    "                            ),\n",
    "                        ticklen=5,\n",
    "                        zeroline=False,\n",
    "                        gridwidth=2,\n",
    "                    ),\n",
    "                    yaxis=dict(\n",
    "                        title='Actual / Predicted Difference',\n",
    "                        titlefont=dict(\n",
    "                            family='Arial, sans-serif',\n",
    "                            size=14,\n",
    "                            ),\n",
    "                        range=[-100, 100],\n",
    "                        ticklen=5,\n",
    "                        gridwidth=2,\n",
    "                    ),\n",
    "                    hovermode='closest',\n",
    "                   plot_bgcolor='rgb(230, 230,230)')\n",
    "\n",
    "fig = go.Figure(data=[trace2], layout=layout)\n",
    "\n",
    "# Plot data in the notebook\n",
    "py.iplot(fig)"
   ]
  },
  {
   "cell_type": "code",
   "execution_count": 6,
   "metadata": {},
   "outputs": [
    {
     "data": {
      "text/html": [
       "<iframe id=\"igraph\" scrolling=\"no\" style=\"border:none;\" seamless=\"seamless\" src=\"https://plot.ly/~shilpak/133.embed\" height=\"525px\" width=\"100%\"></iframe>"
      ],
      "text/plain": [
       "<plotly.tools.PlotlyDisplay object>"
      ]
     },
     "execution_count": 6,
     "metadata": {},
     "output_type": "execute_result"
    }
   ],
   "source": [
    "trace3 = go.Scatter(x=df['id'], y=df['pf_diff'], \n",
    "                    hoverinfo = 'y',\n",
    "                    mode='markers',\n",
    "                    marker=dict(size=7,\n",
    "                    line=dict(width=1),\n",
    "                    color=\"yellow\"\n",
    "                   ))\n",
    "\n",
    "layout = go.Layout(title=\"Predicted Points 'For' Accuracy\",\n",
    "                   font=dict(size=14, color='#7f7f7f'),\n",
    "                    xaxis=dict(\n",
    "                        title='Games',\n",
    "                        titlefont=dict(\n",
    "                            family='Arial, sans-serif',\n",
    "                            size=14,\n",
    "                            ),\n",
    "                        ticklen=5,\n",
    "                        zeroline=False,\n",
    "                        gridwidth=2,\n",
    "                    ),\n",
    "                    yaxis=dict(\n",
    "                        title='Actual / Predicted Difference',\n",
    "                        titlefont=dict(\n",
    "                            family='Arial, sans-serif',\n",
    "                            size=14,\n",
    "                            ),\n",
    "                        range=[-100, 100],\n",
    "                        ticklen=5,\n",
    "                        gridwidth=2,\n",
    "                    ),\n",
    "                    hovermode='closest',\n",
    "                   plot_bgcolor='rgb(230, 230,230)')\n",
    "\n",
    "fig = go.Figure(data=[trace3], layout=layout)\n",
    "\n",
    "# Plot data in the notebook\n",
    "py.iplot(fig)"
   ]
  },
  {
   "cell_type": "code",
   "execution_count": 7,
   "metadata": {},
   "outputs": [
    {
     "data": {
      "text/html": [
       "<iframe id=\"igraph\" scrolling=\"no\" style=\"border:none;\" seamless=\"seamless\" src=\"https://plot.ly/~shilpak/135.embed\" height=\"525px\" width=\"100%\"></iframe>"
      ],
      "text/plain": [
       "<plotly.tools.PlotlyDisplay object>"
      ]
     },
     "execution_count": 7,
     "metadata": {},
     "output_type": "execute_result"
    }
   ],
   "source": [
    "trace4 = go.Scatter(x=df['id'], y=df['pa_diff'], \n",
    "                    hoverinfo = 'y',\n",
    "                    mode='markers',\n",
    "                    marker=dict(size=7,\n",
    "                    line=dict(width=1),\n",
    "                    color=\"orange\"\n",
    "                   ))\n",
    "\n",
    "layout = go.Layout(title=\"Predicted Points 'Allowed' Accuracy\",\n",
    "                    font=dict(size=14, color='#7f7f7f'),\n",
    "                    xaxis=dict(\n",
    "                        title='Games',\n",
    "                        titlefont=dict(\n",
    "                            family='Arial, sans-serif',\n",
    "                            size=14,\n",
    "                            ),\n",
    "                        ticklen=5,\n",
    "                        zeroline=False,\n",
    "                        gridwidth=2,\n",
    "                    ),\n",
    "                    yaxis=dict(\n",
    "                        title='Actual / Predicted Difference',\n",
    "                        titlefont=dict(\n",
    "                            family='Arial, sans-serif',\n",
    "                            size=14,\n",
    "                            ),\n",
    "                        range=[-100, 100],\n",
    "                        ticklen=5,\n",
    "                        gridwidth=2,\n",
    "                    ),\n",
    "                    hovermode='closest',\n",
    "                   plot_bgcolor='rgb(230, 230,230)')\n",
    "\n",
    "fig = go.Figure(data=[trace4], layout=layout)\n",
    "\n",
    "# Plot data in the notebook\n",
    "py.iplot(fig)"
   ]
  },
  {
   "cell_type": "code",
   "execution_count": null,
   "metadata": {
    "collapsed": true
   },
   "outputs": [],
   "source": []
  }
 ],
 "metadata": {
  "kernelspec": {
   "display_name": "Python [conda env:PythonData]",
   "language": "python",
   "name": "conda-env-PythonData-py"
  },
  "language_info": {
   "codemirror_mode": {
    "name": "ipython",
    "version": 3
   },
   "file_extension": ".py",
   "mimetype": "text/x-python",
   "name": "python",
   "nbconvert_exporter": "python",
   "pygments_lexer": "ipython3",
   "version": "3.6.3"
  }
 },
 "nbformat": 4,
 "nbformat_minor": 2
}
