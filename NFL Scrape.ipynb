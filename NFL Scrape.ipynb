{
 "cells": [
  {
   "cell_type": "code",
   "execution_count": 1,
   "metadata": {
    "collapsed": true
   },
   "outputs": [],
   "source": [
    "# Dependencies\n",
    "import pandas as pd\n",
    "from splinter import Browser\n",
    "from bs4 import BeautifulSoup\n",
    "import requests\n",
    "import numpy as np\n",
    "import time \n",
    "import json"
   ]
  },
  {
   "cell_type": "code",
   "execution_count": 2,
   "metadata": {},
   "outputs": [
    {
     "name": "stdout",
     "output_type": "stream",
     "text": [
      "--- Chrome Driver Complete ---\n"
     ]
    }
   ],
   "source": [
    "#Scrape the Season Schedule\n",
    "year_url = \"https://www.footballdb.com/games/index.html?lg=NFL&yr=2016\"\n",
    "executable_path = {'executable_path': 'chromedriver.exe'}\n",
    "browser = Browser('chrome', **executable_path, headless = True)\n",
    "browser.visit(year_url)\n",
    "year_html = browser.html\n",
    "year_soup = BeautifulSoup(year_html, 'html.parser')\n",
    "print (\"--- Chrome Driver Complete ---\")"
   ]
  },
  {
   "cell_type": "code",
   "execution_count": 3,
   "metadata": {},
   "outputs": [
    {
     "name": "stdout",
     "output_type": "stream",
     "text": [
      "[{'date': '09/08/2016', 'gameURL': '/games/boxscore.html?gid=2016090801'}, {'date': '09/11/2016', 'gameURL': '/games/boxscore.html?gid=2016091101'}, {'date': '09/11/2016', 'gameURL': '/games/boxscore.html?gid=2016091102'}, {'date': '09/11/2016', 'gameURL': '/games/boxscore.html?gid=2016091103'}, {'date': '09/11/2016', 'gameURL': '/games/boxscore.html?gid=2016091104'}, {'date': '09/11/2016', 'gameURL': '/games/boxscore.html?gid=2016091105'}, {'date': '09/11/2016', 'gameURL': '/games/boxscore.html?gid=2016091106'}, {'date': '09/11/2016', 'gameURL': '/games/boxscore.html?gid=2016091107'}, {'date': '09/11/2016', 'gameURL': '/games/boxscore.html?gid=2016091108'}, {'date': '09/11/2016', 'gameURL': '/games/boxscore.html?gid=2016091109'}, {'date': '09/11/2016', 'gameURL': '/games/boxscore.html?gid=2016091110'}, {'date': '09/11/2016', 'gameURL': '/games/boxscore.html?gid=2016091111'}, {'date': '09/11/2016', 'gameURL': '/games/boxscore.html?gid=2016091112'}, {'date': '09/11/2016', 'gameURL': '/games/boxscore.html?gid=2016091113'}, {'date': '09/12/2016', 'gameURL': '/games/boxscore.html?gid=2016091201'}, {'date': '09/12/2016', 'gameURL': '/games/boxscore.html?gid=2016091202'}, {'date': '09/15/2016', 'gameURL': '/games/boxscore.html?gid=2016091501'}, {'date': '09/18/2016', 'gameURL': '/games/boxscore.html?gid=2016091801'}, {'date': '09/18/2016', 'gameURL': '/games/boxscore.html?gid=2016091802'}, {'date': '09/18/2016', 'gameURL': '/games/boxscore.html?gid=2016091803'}, {'date': '09/18/2016', 'gameURL': '/games/boxscore.html?gid=2016091804'}, {'date': '09/18/2016', 'gameURL': '/games/boxscore.html?gid=2016091805'}, {'date': '09/18/2016', 'gameURL': '/games/boxscore.html?gid=2016091806'}, {'date': '09/18/2016', 'gameURL': '/games/boxscore.html?gid=2016091807'}, {'date': '09/18/2016', 'gameURL': '/games/boxscore.html?gid=2016091808'}, {'date': '09/18/2016', 'gameURL': '/games/boxscore.html?gid=2016091809'}, {'date': '09/18/2016', 'gameURL': '/games/boxscore.html?gid=2016091810'}, {'date': '09/18/2016', 'gameURL': '/games/boxscore.html?gid=2016091811'}, {'date': '09/18/2016', 'gameURL': '/games/boxscore.html?gid=2016091812'}, {'date': '09/18/2016', 'gameURL': '/games/boxscore.html?gid=2016091813'}, {'date': '09/18/2016', 'gameURL': '/games/boxscore.html?gid=2016091814'}, {'date': '09/19/2016', 'gameURL': '/games/boxscore.html?gid=2016091901'}, {'date': '09/22/2016', 'gameURL': '/games/boxscore.html?gid=2016092201'}, {'date': '09/25/2016', 'gameURL': '/games/boxscore.html?gid=2016092501'}, {'date': '09/25/2016', 'gameURL': '/games/boxscore.html?gid=2016092502'}, {'date': '09/25/2016', 'gameURL': '/games/boxscore.html?gid=2016092503'}, {'date': '09/25/2016', 'gameURL': '/games/boxscore.html?gid=2016092504'}, {'date': '09/25/2016', 'gameURL': '/games/boxscore.html?gid=2016092505'}, {'date': '09/25/2016', 'gameURL': '/games/boxscore.html?gid=2016092506'}, {'date': '09/25/2016', 'gameURL': '/games/boxscore.html?gid=2016092507'}, {'date': '09/25/2016', 'gameURL': '/games/boxscore.html?gid=2016092508'}, {'date': '09/25/2016', 'gameURL': '/games/boxscore.html?gid=2016092509'}, {'date': '09/25/2016', 'gameURL': '/games/boxscore.html?gid=2016092510'}, {'date': '09/25/2016', 'gameURL': '/games/boxscore.html?gid=2016092511'}, {'date': '09/25/2016', 'gameURL': '/games/boxscore.html?gid=2016092512'}, {'date': '09/25/2016', 'gameURL': '/games/boxscore.html?gid=2016092513'}, {'date': '09/25/2016', 'gameURL': '/games/boxscore.html?gid=2016092514'}, {'date': '09/26/2016', 'gameURL': '/games/boxscore.html?gid=2016092601'}, {'date': '09/29/2016', 'gameURL': '/games/boxscore.html?gid=2016092901'}, {'date': '10/02/2016', 'gameURL': '/games/boxscore.html?gid=2016100201'}, {'date': '10/02/2016', 'gameURL': '/games/boxscore.html?gid=2016100202'}, {'date': '10/02/2016', 'gameURL': '/games/boxscore.html?gid=2016100203'}, {'date': '10/02/2016', 'gameURL': '/games/boxscore.html?gid=2016100204'}, {'date': '10/02/2016', 'gameURL': '/games/boxscore.html?gid=2016100205'}, {'date': '10/02/2016', 'gameURL': '/games/boxscore.html?gid=2016100206'}, {'date': '10/02/2016', 'gameURL': '/games/boxscore.html?gid=2016100207'}, {'date': '10/02/2016', 'gameURL': '/games/boxscore.html?gid=2016100208'}, {'date': '10/02/2016', 'gameURL': '/games/boxscore.html?gid=2016100209'}, {'date': '10/02/2016', 'gameURL': '/games/boxscore.html?gid=2016100210'}, {'date': '10/02/2016', 'gameURL': '/games/boxscore.html?gid=2016100211'}, {'date': '10/02/2016', 'gameURL': '/games/boxscore.html?gid=2016100212'}, {'date': '10/02/2016', 'gameURL': '/games/boxscore.html?gid=2016100213'}, {'date': '10/03/2016', 'gameURL': '/games/boxscore.html?gid=2016100301'}, {'date': '10/06/2016', 'gameURL': '/games/boxscore.html?gid=2016100601'}, {'date': '10/09/2016', 'gameURL': '/games/boxscore.html?gid=2016100901'}, {'date': '10/09/2016', 'gameURL': '/games/boxscore.html?gid=2016100902'}, {'date': '10/09/2016', 'gameURL': '/games/boxscore.html?gid=2016100903'}, {'date': '10/09/2016', 'gameURL': '/games/boxscore.html?gid=2016100904'}, {'date': '10/09/2016', 'gameURL': '/games/boxscore.html?gid=2016100905'}, {'date': '10/09/2016', 'gameURL': '/games/boxscore.html?gid=2016100906'}, {'date': '10/09/2016', 'gameURL': '/games/boxscore.html?gid=2016100907'}, {'date': '10/09/2016', 'gameURL': '/games/boxscore.html?gid=2016100908'}, {'date': '10/09/2016', 'gameURL': '/games/boxscore.html?gid=2016100909'}, {'date': '10/09/2016', 'gameURL': '/games/boxscore.html?gid=2016100910'}, {'date': '10/09/2016', 'gameURL': '/games/boxscore.html?gid=2016100911'}, {'date': '10/09/2016', 'gameURL': '/games/boxscore.html?gid=2016100912'}, {'date': '10/10/2016', 'gameURL': '/games/boxscore.html?gid=2016101001'}, {'date': '10/13/2016', 'gameURL': '/games/boxscore.html?gid=2016101301'}, {'date': '10/16/2016', 'gameURL': '/games/boxscore.html?gid=2016101601'}, {'date': '10/16/2016', 'gameURL': '/games/boxscore.html?gid=2016101602'}, {'date': '10/16/2016', 'gameURL': '/games/boxscore.html?gid=2016101603'}, {'date': '10/16/2016', 'gameURL': '/games/boxscore.html?gid=2016101604'}, {'date': '10/16/2016', 'gameURL': '/games/boxscore.html?gid=2016101605'}, {'date': '10/16/2016', 'gameURL': '/games/boxscore.html?gid=2016101606'}, {'date': '10/16/2016', 'gameURL': '/games/boxscore.html?gid=2016101607'}, {'date': '10/16/2016', 'gameURL': '/games/boxscore.html?gid=2016101608'}, {'date': '10/16/2016', 'gameURL': '/games/boxscore.html?gid=2016101609'}, {'date': '10/16/2016', 'gameURL': '/games/boxscore.html?gid=2016101610'}, {'date': '10/16/2016', 'gameURL': '/games/boxscore.html?gid=2016101611'}, {'date': '10/16/2016', 'gameURL': '/games/boxscore.html?gid=2016101612'}, {'date': '10/16/2016', 'gameURL': '/games/boxscore.html?gid=2016101613'}, {'date': '10/17/2016', 'gameURL': '/games/boxscore.html?gid=2016101701'}, {'date': '10/20/2016', 'gameURL': '/games/boxscore.html?gid=2016102001'}, {'date': '10/23/2016', 'gameURL': '/games/boxscore.html?gid=2016102301'}, {'date': '10/23/2016', 'gameURL': '/games/boxscore.html?gid=2016102302'}, {'date': '10/23/2016', 'gameURL': '/games/boxscore.html?gid=2016102303'}, {'date': '10/23/2016', 'gameURL': '/games/boxscore.html?gid=2016102304'}, {'date': '10/23/2016', 'gameURL': '/games/boxscore.html?gid=2016102305'}, {'date': '10/23/2016', 'gameURL': '/games/boxscore.html?gid=2016102306'}, {'date': '10/23/2016', 'gameURL': '/games/boxscore.html?gid=2016102307'}, {'date': '10/23/2016', 'gameURL': '/games/boxscore.html?gid=2016102308'}, {'date': '10/23/2016', 'gameURL': '/games/boxscore.html?gid=2016102309'}, {'date': '10/23/2016', 'gameURL': '/games/boxscore.html?gid=2016102310'}, {'date': '10/23/2016', 'gameURL': '/games/boxscore.html?gid=2016102311'}, {'date': '10/23/2016', 'gameURL': '/games/boxscore.html?gid=2016102312'}, {'date': '10/23/2016', 'gameURL': '/games/boxscore.html?gid=2016102313'}, {'date': '10/24/2016', 'gameURL': '/games/boxscore.html?gid=2016102401'}, {'date': '10/27/2016', 'gameURL': '/games/boxscore.html?gid=2016102701'}, {'date': '10/30/2016', 'gameURL': '/games/boxscore.html?gid=2016103001'}, {'date': '10/30/2016', 'gameURL': '/games/boxscore.html?gid=2016103002'}, {'date': '10/30/2016', 'gameURL': '/games/boxscore.html?gid=2016103003'}, {'date': '10/30/2016', 'gameURL': '/games/boxscore.html?gid=2016103004'}, {'date': '10/30/2016', 'gameURL': '/games/boxscore.html?gid=2016103005'}, {'date': '10/30/2016', 'gameURL': '/games/boxscore.html?gid=2016103006'}, {'date': '10/30/2016', 'gameURL': '/games/boxscore.html?gid=2016103008'}, {'date': '10/30/2016', 'gameURL': '/games/boxscore.html?gid=2016103010'}, {'date': '10/30/2016', 'gameURL': '/games/boxscore.html?gid=2016103009'}, {'date': '10/30/2016', 'gameURL': '/games/boxscore.html?gid=2016103007'}, {'date': '10/30/2016', 'gameURL': '/games/boxscore.html?gid=2016103011'}, {'date': '10/31/2016', 'gameURL': '/games/boxscore.html?gid=2016103101'}, {'date': '11/03/2016', 'gameURL': '/games/boxscore.html?gid=2016110301'}, {'date': '11/06/2016', 'gameURL': '/games/boxscore.html?gid=2016110601'}, {'date': '11/06/2016', 'gameURL': '/games/boxscore.html?gid=2016110602'}, {'date': '11/06/2016', 'gameURL': '/games/boxscore.html?gid=2016110603'}, {'date': '11/06/2016', 'gameURL': '/games/boxscore.html?gid=2016110604'}, {'date': '11/06/2016', 'gameURL': '/games/boxscore.html?gid=2016110605'}, {'date': '11/06/2016', 'gameURL': '/games/boxscore.html?gid=2016110606'}, {'date': '11/06/2016', 'gameURL': '/games/boxscore.html?gid=2016110607'}, {'date': '11/06/2016', 'gameURL': '/games/boxscore.html?gid=2016110608'}, {'date': '11/06/2016', 'gameURL': '/games/boxscore.html?gid=2016110609'}, {'date': '11/06/2016', 'gameURL': '/games/boxscore.html?gid=2016110610'}, {'date': '11/06/2016', 'gameURL': '/games/boxscore.html?gid=2016110611'}, {'date': '11/07/2016', 'gameURL': '/games/boxscore.html?gid=2016110701'}, {'date': '11/10/2016', 'gameURL': '/games/boxscore.html?gid=2016111001'}, {'date': '11/13/2016', 'gameURL': '/games/boxscore.html?gid=2016111301'}, {'date': '11/13/2016', 'gameURL': '/games/boxscore.html?gid=2016111302'}, {'date': '11/13/2016', 'gameURL': '/games/boxscore.html?gid=2016111303'}, {'date': '11/13/2016', 'gameURL': '/games/boxscore.html?gid=2016111304'}, {'date': '11/13/2016', 'gameURL': '/games/boxscore.html?gid=2016111305'}, {'date': '11/13/2016', 'gameURL': '/games/boxscore.html?gid=2016111306'}, {'date': '11/13/2016', 'gameURL': '/games/boxscore.html?gid=2016111307'}, {'date': '11/13/2016', 'gameURL': '/games/boxscore.html?gid=2016111308'}, {'date': '11/13/2016', 'gameURL': '/games/boxscore.html?gid=2016111309'}, {'date': '11/13/2016', 'gameURL': '/games/boxscore.html?gid=2016111310'}, {'date': '11/13/2016', 'gameURL': '/games/boxscore.html?gid=2016111311'}, {'date': '11/13/2016', 'gameURL': '/games/boxscore.html?gid=2016111312'}, {'date': '11/14/2016', 'gameURL': '/games/boxscore.html?gid=2016111401'}, {'date': '11/17/2016', 'gameURL': '/games/boxscore.html?gid=2016111701'}, {'date': '11/20/2016', 'gameURL': '/games/boxscore.html?gid=2016112001'}, {'date': '11/20/2016', 'gameURL': '/games/boxscore.html?gid=2016112002'}, {'date': '11/20/2016', 'gameURL': '/games/boxscore.html?gid=2016112003'}, {'date': '11/20/2016', 'gameURL': '/games/boxscore.html?gid=2016112004'}, {'date': '11/20/2016', 'gameURL': '/games/boxscore.html?gid=2016112005'}, {'date': '11/20/2016', 'gameURL': '/games/boxscore.html?gid=2016112006'}, {'date': '11/20/2016', 'gameURL': '/games/boxscore.html?gid=2016112007'}, {'date': '11/20/2016', 'gameURL': '/games/boxscore.html?gid=2016112008'}, {'date': '11/20/2016', 'gameURL': '/games/boxscore.html?gid=2016112009'}, {'date': '11/20/2016', 'gameURL': '/games/boxscore.html?gid=2016112010'}, {'date': '11/20/2016', 'gameURL': '/games/boxscore.html?gid=2016112011'}, {'date': '11/20/2016', 'gameURL': '/games/boxscore.html?gid=2016112012'}, {'date': '11/21/2016', 'gameURL': '/games/boxscore.html?gid=2016112101'}, {'date': '11/24/2016', 'gameURL': '/games/boxscore.html?gid=2016112401'}, {'date': '11/24/2016', 'gameURL': '/games/boxscore.html?gid=2016112402'}, {'date': '11/24/2016', 'gameURL': '/games/boxscore.html?gid=2016112403'}, {'date': '11/27/2016', 'gameURL': '/games/boxscore.html?gid=2016112701'}, {'date': '11/27/2016', 'gameURL': '/games/boxscore.html?gid=2016112702'}, {'date': '11/27/2016', 'gameURL': '/games/boxscore.html?gid=2016112703'}, {'date': '11/27/2016', 'gameURL': '/games/boxscore.html?gid=2016112704'}, {'date': '11/27/2016', 'gameURL': '/games/boxscore.html?gid=2016112705'}, {'date': '11/27/2016', 'gameURL': '/games/boxscore.html?gid=2016112706'}, {'date': '11/27/2016', 'gameURL': '/games/boxscore.html?gid=2016112707'}, {'date': '11/27/2016', 'gameURL': '/games/boxscore.html?gid=2016112708'}, {'date': '11/27/2016', 'gameURL': '/games/boxscore.html?gid=2016112709'}, {'date': '11/27/2016', 'gameURL': '/games/boxscore.html?gid=2016112710'}, {'date': '11/27/2016', 'gameURL': '/games/boxscore.html?gid=2016112712'}, {'date': '11/27/2016', 'gameURL': '/games/boxscore.html?gid=2016112711'}, {'date': '11/28/2016', 'gameURL': '/games/boxscore.html?gid=2016112801'}, {'date': '12/01/2016', 'gameURL': '/games/boxscore.html?gid=2016120101'}, {'date': '12/04/2016', 'gameURL': '/games/boxscore.html?gid=2016120401'}, {'date': '12/04/2016', 'gameURL': '/games/boxscore.html?gid=2016120402'}, {'date': '12/04/2016', 'gameURL': '/games/boxscore.html?gid=2016120403'}, {'date': '12/04/2016', 'gameURL': '/games/boxscore.html?gid=2016120404'}, {'date': '12/04/2016', 'gameURL': '/games/boxscore.html?gid=2016120405'}, {'date': '12/04/2016', 'gameURL': '/games/boxscore.html?gid=2016120406'}, {'date': '12/04/2016', 'gameURL': '/games/boxscore.html?gid=2016120407'}, {'date': '12/04/2016', 'gameURL': '/games/boxscore.html?gid=2016120408'}, {'date': '12/04/2016', 'gameURL': '/games/boxscore.html?gid=2016120409'}, {'date': '12/04/2016', 'gameURL': '/games/boxscore.html?gid=2016120410'}, {'date': '12/04/2016', 'gameURL': '/games/boxscore.html?gid=2016120411'}, {'date': '12/04/2016', 'gameURL': '/games/boxscore.html?gid=2016120412'}, {'date': '12/04/2016', 'gameURL': '/games/boxscore.html?gid=2016120413'}, {'date': '12/05/2016', 'gameURL': '/games/boxscore.html?gid=2016120501'}, {'date': '12/08/2016', 'gameURL': '/games/boxscore.html?gid=2016120801'}, {'date': '12/11/2016', 'gameURL': '/games/boxscore.html?gid=2016121101'}, {'date': '12/11/2016', 'gameURL': '/games/boxscore.html?gid=2016121102'}, {'date': '12/11/2016', 'gameURL': '/games/boxscore.html?gid=2016121104'}, {'date': '12/11/2016', 'gameURL': '/games/boxscore.html?gid=2016121105'}, {'date': '12/11/2016', 'gameURL': '/games/boxscore.html?gid=2016121106'}, {'date': '12/11/2016', 'gameURL': '/games/boxscore.html?gid=2016121107'}, {'date': '12/11/2016', 'gameURL': '/games/boxscore.html?gid=2016121108'}, {'date': '12/11/2016', 'gameURL': '/games/boxscore.html?gid=2016121109'}, {'date': '12/11/2016', 'gameURL': '/games/boxscore.html?gid=2016121110'}, {'date': '12/11/2016', 'gameURL': '/games/boxscore.html?gid=2016121111'}, {'date': '12/11/2016', 'gameURL': '/games/boxscore.html?gid=2016121103'}, {'date': '12/11/2016', 'gameURL': '/games/boxscore.html?gid=2016121112'}, {'date': '12/11/2016', 'gameURL': '/games/boxscore.html?gid=2016121113'}, {'date': '12/11/2016', 'gameURL': '/games/boxscore.html?gid=2016121114'}, {'date': '12/12/2016', 'gameURL': '/games/boxscore.html?gid=2016121201'}, {'date': '12/15/2016', 'gameURL': '/games/boxscore.html?gid=2016121501'}, {'date': '12/17/2016', 'gameURL': '/games/boxscore.html?gid=2016121701'}, {'date': '12/18/2016', 'gameURL': '/games/boxscore.html?gid=2016121801'}, {'date': '12/18/2016', 'gameURL': '/games/boxscore.html?gid=2016121803'}, {'date': '12/18/2016', 'gameURL': '/games/boxscore.html?gid=2016121804'}, {'date': '12/18/2016', 'gameURL': '/games/boxscore.html?gid=2016121805'}, {'date': '12/18/2016', 'gameURL': '/games/boxscore.html?gid=2016121806'}, {'date': '12/18/2016', 'gameURL': '/games/boxscore.html?gid=2016121807'}, {'date': '12/18/2016', 'gameURL': '/games/boxscore.html?gid=2016121808'}, {'date': '12/18/2016', 'gameURL': '/games/boxscore.html?gid=2016121813'}, {'date': '12/18/2016', 'gameURL': '/games/boxscore.html?gid=2016121809'}, {'date': '12/18/2016', 'gameURL': '/games/boxscore.html?gid=2016121810'}, {'date': '12/18/2016', 'gameURL': '/games/boxscore.html?gid=2016121811'}, {'date': '12/18/2016', 'gameURL': '/games/boxscore.html?gid=2016121812'}, {'date': '12/18/2016', 'gameURL': '/games/boxscore.html?gid=2016121802'}, {'date': '12/19/2016', 'gameURL': '/games/boxscore.html?gid=2016121901'}, {'date': '12/22/2016', 'gameURL': '/games/boxscore.html?gid=2016122201'}, {'date': '12/24/2016', 'gameURL': '/games/boxscore.html?gid=2016122401'}, {'date': '12/24/2016', 'gameURL': '/games/boxscore.html?gid=2016122403'}, {'date': '12/24/2016', 'gameURL': '/games/boxscore.html?gid=2016122404'}, {'date': '12/24/2016', 'gameURL': '/games/boxscore.html?gid=2016122405'}, {'date': '12/24/2016', 'gameURL': '/games/boxscore.html?gid=2016122406'}, {'date': '12/24/2016', 'gameURL': '/games/boxscore.html?gid=2016122407'}, {'date': '12/24/2016', 'gameURL': '/games/boxscore.html?gid=2016122408'}, {'date': '12/24/2016', 'gameURL': '/games/boxscore.html?gid=2016122409'}, {'date': '12/24/2016', 'gameURL': '/games/boxscore.html?gid=2016122402'}, {'date': '12/24/2016', 'gameURL': '/games/boxscore.html?gid=2016122410'}, {'date': '12/24/2016', 'gameURL': '/games/boxscore.html?gid=2016122411'}, {'date': '12/24/2016', 'gameURL': '/games/boxscore.html?gid=2016122412'}, {'date': '12/25/2016', 'gameURL': '/games/boxscore.html?gid=2016122501'}, {'date': '12/25/2016', 'gameURL': '/games/boxscore.html?gid=2016122502'}, {'date': '12/26/2016', 'gameURL': '/games/boxscore.html?gid=2016122601'}, {'date': '01/01/2017', 'gameURL': '/games/boxscore.html?gid=2017010102'}, {'date': '01/01/2017', 'gameURL': '/games/boxscore.html?gid=2017010104'}, {'date': '01/01/2017', 'gameURL': '/games/boxscore.html?gid=2017010105'}, {'date': '01/01/2017', 'gameURL': '/games/boxscore.html?gid=2017010107'}, {'date': '01/01/2017', 'gameURL': '/games/boxscore.html?gid=2017010108'}, {'date': '01/01/2017', 'gameURL': '/games/boxscore.html?gid=2017010109'}, {'date': '01/01/2017', 'gameURL': '/games/boxscore.html?gid=2017010110'}, {'date': '01/01/2017', 'gameURL': '/games/boxscore.html?gid=2017010111'}, {'date': '01/01/2017', 'gameURL': '/games/boxscore.html?gid=2017010112'}, {'date': '01/01/2017', 'gameURL': '/games/boxscore.html?gid=2017010101'}, {'date': '01/01/2017', 'gameURL': '/games/boxscore.html?gid=2017010103'}, {'date': '01/01/2017', 'gameURL': '/games/boxscore.html?gid=2017010113'}, {'date': '01/01/2017', 'gameURL': '/games/boxscore.html?gid=2017010114'}, {'date': '01/01/2017', 'gameURL': '/games/boxscore.html?gid=2017010115'}, {'date': '01/01/2017', 'gameURL': '/games/boxscore.html?gid=2017010116'}, {'date': '01/01/2017', 'gameURL': '/games/boxscore.html?gid=2017010106'}, {'date': '01/07/2017', 'gameURL': '/games/boxscore.html?gid=2017010702'}, {'date': '01/07/2017', 'gameURL': '/games/boxscore.html?gid=2017010701'}, {'date': '01/08/2017', 'gameURL': '/games/boxscore.html?gid=2017010801'}, {'date': '01/08/2017', 'gameURL': '/games/boxscore.html?gid=2017010802'}, {'date': '01/14/2017', 'gameURL': '/games/boxscore.html?gid=2017011401'}, {'date': '01/14/2017', 'gameURL': '/games/boxscore.html?gid=2017011402'}, {'date': '01/15/2017', 'gameURL': '/games/boxscore.html?gid=2017011502'}, {'date': '01/15/2017', 'gameURL': '/games/boxscore.html?gid=2017011501'}, {'date': '01/22/2017', 'gameURL': '/games/boxscore.html?gid=2017012201'}, {'date': '01/22/2017', 'gameURL': '/games/boxscore.html?gid=2017012202'}, {'date': '02/05/2017', 'gameURL': '/games/boxscore.html?gid=2017020501'}]\n"
     ]
    }
   ],
   "source": [
    "#create schedule of full season with date and URL for Box Score\n",
    "full_schedule = []\n",
    "tables = year_soup.findAll(\"table\", class_=\"statistics\")\n",
    "for x in np.arange(len(tables)):\n",
    "    table = tables[x].findAll(\"tbody\")\n",
    "    for t in table:\n",
    "        rows = t.findAll(\"tr\")\n",
    "        for row in rows:\n",
    "            d = row.findAll(\"td\")\n",
    "            date = d[0].text[:10]\n",
    "            for a in row.findAll(\"a\", href = True):\n",
    "                gameURL = a[\"href\"]\n",
    "            full_schedule.append({\"date\":date, \"gameURL\": gameURL})\n",
    "#             print (f'{date} // {gameURL} URL acquired')\n",
    "print (full_schedule)"
   ]
  },
  {
   "cell_type": "code",
   "execution_count": null,
   "metadata": {
    "collapsed": true
   },
   "outputs": [],
   "source": []
  },
  {
   "cell_type": "code",
   "execution_count": 9,
   "metadata": {},
   "outputs": [
    {
     "name": "stdout",
     "output_type": "stream",
     "text": [
      "--- Game URL Scraping ---\n",
      "CarolinaCar vs. DenverDen on 09/08/2016 complete!\n",
      "--- Game URL Scraping ---\n",
      "Tampa BayTB vs. AtlantaAtl on 09/11/2016 complete!\n",
      "--- Game URL Scraping ---\n",
      "MinnesotaMin vs. TennesseeTen on 09/11/2016 complete!\n"
     ]
    },
    {
     "ename": "TimeoutException",
     "evalue": "Message: timeout\n  (Session info: headless chrome=67.0.3396.87)\n  (Driver info: chromedriver=2.36.540470 (e522d04694c7ebea4ba8821272dbef4f9b818c91),platform=Windows NT 10.0.17134 x86_64)\n",
     "output_type": "error",
     "traceback": [
      "\u001b[1;31m---------------------------------------------------------------------------\u001b[0m",
      "\u001b[1;31mTimeoutException\u001b[0m                          Traceback (most recent call last)",
      "\u001b[1;32m<ipython-input-9-cd3947186b82>\u001b[0m in \u001b[0;36m<module>\u001b[1;34m()\u001b[0m\n\u001b[0;32m      8\u001b[0m     \u001b[0mexecutable_path\u001b[0m \u001b[1;33m=\u001b[0m \u001b[1;33m{\u001b[0m\u001b[1;34m'executable_path'\u001b[0m\u001b[1;33m:\u001b[0m \u001b[1;34m'chromedriver.exe'\u001b[0m\u001b[1;33m}\u001b[0m\u001b[1;33m\u001b[0m\u001b[0m\n\u001b[0;32m      9\u001b[0m     \u001b[0mbrowser\u001b[0m \u001b[1;33m=\u001b[0m \u001b[0mBrowser\u001b[0m\u001b[1;33m(\u001b[0m\u001b[1;34m'chrome'\u001b[0m\u001b[1;33m,\u001b[0m \u001b[1;33m**\u001b[0m\u001b[0mexecutable_path\u001b[0m\u001b[1;33m,\u001b[0m \u001b[0mheadless\u001b[0m \u001b[1;33m=\u001b[0m \u001b[1;32mTrue\u001b[0m\u001b[1;33m)\u001b[0m\u001b[1;33m\u001b[0m\u001b[0m\n\u001b[1;32m---> 10\u001b[1;33m     \u001b[0mbrowser\u001b[0m\u001b[1;33m.\u001b[0m\u001b[0mvisit\u001b[0m\u001b[1;33m(\u001b[0m\u001b[0mgame_url\u001b[0m\u001b[1;33m)\u001b[0m\u001b[1;33m\u001b[0m\u001b[0m\n\u001b[0m\u001b[0;32m     11\u001b[0m     \u001b[0mgame_html\u001b[0m \u001b[1;33m=\u001b[0m \u001b[0mbrowser\u001b[0m\u001b[1;33m.\u001b[0m\u001b[0mhtml\u001b[0m\u001b[1;33m\u001b[0m\u001b[0m\n\u001b[0;32m     12\u001b[0m     \u001b[0mgame_soup\u001b[0m \u001b[1;33m=\u001b[0m \u001b[0mBeautifulSoup\u001b[0m\u001b[1;33m(\u001b[0m\u001b[0mgame_html\u001b[0m\u001b[1;33m,\u001b[0m \u001b[1;34m'html.parser'\u001b[0m\u001b[1;33m)\u001b[0m\u001b[1;33m\u001b[0m\u001b[0m\n",
      "\u001b[1;32m~\\Anaconda3\\envs\\pythondata\\lib\\site-packages\\splinter\\driver\\webdriver\\__init__.py\u001b[0m in \u001b[0;36mvisit\u001b[1;34m(self, url)\u001b[0m\n\u001b[0;32m    183\u001b[0m     \u001b[1;32mdef\u001b[0m \u001b[0mvisit\u001b[0m\u001b[1;33m(\u001b[0m\u001b[0mself\u001b[0m\u001b[1;33m,\u001b[0m \u001b[0murl\u001b[0m\u001b[1;33m)\u001b[0m\u001b[1;33m:\u001b[0m\u001b[1;33m\u001b[0m\u001b[0m\n\u001b[0;32m    184\u001b[0m         \u001b[0mself\u001b[0m\u001b[1;33m.\u001b[0m\u001b[0mstatus_code\u001b[0m \u001b[1;33m=\u001b[0m \u001b[1;32mNone\u001b[0m\u001b[1;33m\u001b[0m\u001b[0m\n\u001b[1;32m--> 185\u001b[1;33m         \u001b[0mself\u001b[0m\u001b[1;33m.\u001b[0m\u001b[0mdriver\u001b[0m\u001b[1;33m.\u001b[0m\u001b[0mget\u001b[0m\u001b[1;33m(\u001b[0m\u001b[0murl\u001b[0m\u001b[1;33m)\u001b[0m\u001b[1;33m\u001b[0m\u001b[0m\n\u001b[0m\u001b[0;32m    186\u001b[0m         \u001b[0mself\u001b[0m\u001b[1;33m.\u001b[0m\u001b[0mstatus_code\u001b[0m \u001b[1;33m=\u001b[0m \u001b[0mStatusCode\u001b[0m\u001b[1;33m(\u001b[0m\u001b[1;36m200\u001b[0m\u001b[1;33m,\u001b[0m \u001b[1;34m'OK'\u001b[0m\u001b[1;33m)\u001b[0m\u001b[1;33m\u001b[0m\u001b[0m\n\u001b[0;32m    187\u001b[0m \u001b[1;33m\u001b[0m\u001b[0m\n",
      "\u001b[1;32m~\\Anaconda3\\envs\\pythondata\\lib\\site-packages\\selenium\\webdriver\\remote\\webdriver.py\u001b[0m in \u001b[0;36mget\u001b[1;34m(self, url)\u001b[0m\n\u001b[0;32m    322\u001b[0m         \u001b[0mLoads\u001b[0m \u001b[0ma\u001b[0m \u001b[0mweb\u001b[0m \u001b[0mpage\u001b[0m \u001b[1;32min\u001b[0m \u001b[0mthe\u001b[0m \u001b[0mcurrent\u001b[0m \u001b[0mbrowser\u001b[0m \u001b[0msession\u001b[0m\u001b[1;33m.\u001b[0m\u001b[1;33m\u001b[0m\u001b[0m\n\u001b[0;32m    323\u001b[0m         \"\"\"\n\u001b[1;32m--> 324\u001b[1;33m         \u001b[0mself\u001b[0m\u001b[1;33m.\u001b[0m\u001b[0mexecute\u001b[0m\u001b[1;33m(\u001b[0m\u001b[0mCommand\u001b[0m\u001b[1;33m.\u001b[0m\u001b[0mGET\u001b[0m\u001b[1;33m,\u001b[0m \u001b[1;33m{\u001b[0m\u001b[1;34m'url'\u001b[0m\u001b[1;33m:\u001b[0m \u001b[0murl\u001b[0m\u001b[1;33m}\u001b[0m\u001b[1;33m)\u001b[0m\u001b[1;33m\u001b[0m\u001b[0m\n\u001b[0m\u001b[0;32m    325\u001b[0m \u001b[1;33m\u001b[0m\u001b[0m\n\u001b[0;32m    326\u001b[0m     \u001b[1;33m@\u001b[0m\u001b[0mproperty\u001b[0m\u001b[1;33m\u001b[0m\u001b[0m\n",
      "\u001b[1;32m~\\Anaconda3\\envs\\pythondata\\lib\\site-packages\\selenium\\webdriver\\remote\\webdriver.py\u001b[0m in \u001b[0;36mexecute\u001b[1;34m(self, driver_command, params)\u001b[0m\n\u001b[0;32m    310\u001b[0m         \u001b[0mresponse\u001b[0m \u001b[1;33m=\u001b[0m \u001b[0mself\u001b[0m\u001b[1;33m.\u001b[0m\u001b[0mcommand_executor\u001b[0m\u001b[1;33m.\u001b[0m\u001b[0mexecute\u001b[0m\u001b[1;33m(\u001b[0m\u001b[0mdriver_command\u001b[0m\u001b[1;33m,\u001b[0m \u001b[0mparams\u001b[0m\u001b[1;33m)\u001b[0m\u001b[1;33m\u001b[0m\u001b[0m\n\u001b[0;32m    311\u001b[0m         \u001b[1;32mif\u001b[0m \u001b[0mresponse\u001b[0m\u001b[1;33m:\u001b[0m\u001b[1;33m\u001b[0m\u001b[0m\n\u001b[1;32m--> 312\u001b[1;33m             \u001b[0mself\u001b[0m\u001b[1;33m.\u001b[0m\u001b[0merror_handler\u001b[0m\u001b[1;33m.\u001b[0m\u001b[0mcheck_response\u001b[0m\u001b[1;33m(\u001b[0m\u001b[0mresponse\u001b[0m\u001b[1;33m)\u001b[0m\u001b[1;33m\u001b[0m\u001b[0m\n\u001b[0m\u001b[0;32m    313\u001b[0m             response['value'] = self._unwrap_value(\n\u001b[0;32m    314\u001b[0m                 response.get('value', None))\n",
      "\u001b[1;32m~\\Anaconda3\\envs\\pythondata\\lib\\site-packages\\selenium\\webdriver\\remote\\errorhandler.py\u001b[0m in \u001b[0;36mcheck_response\u001b[1;34m(self, response)\u001b[0m\n\u001b[0;32m    240\u001b[0m                 \u001b[0malert_text\u001b[0m \u001b[1;33m=\u001b[0m \u001b[0mvalue\u001b[0m\u001b[1;33m[\u001b[0m\u001b[1;34m'alert'\u001b[0m\u001b[1;33m]\u001b[0m\u001b[1;33m.\u001b[0m\u001b[0mget\u001b[0m\u001b[1;33m(\u001b[0m\u001b[1;34m'text'\u001b[0m\u001b[1;33m)\u001b[0m\u001b[1;33m\u001b[0m\u001b[0m\n\u001b[0;32m    241\u001b[0m             \u001b[1;32mraise\u001b[0m \u001b[0mexception_class\u001b[0m\u001b[1;33m(\u001b[0m\u001b[0mmessage\u001b[0m\u001b[1;33m,\u001b[0m \u001b[0mscreen\u001b[0m\u001b[1;33m,\u001b[0m \u001b[0mstacktrace\u001b[0m\u001b[1;33m,\u001b[0m \u001b[0malert_text\u001b[0m\u001b[1;33m)\u001b[0m\u001b[1;33m\u001b[0m\u001b[0m\n\u001b[1;32m--> 242\u001b[1;33m         \u001b[1;32mraise\u001b[0m \u001b[0mexception_class\u001b[0m\u001b[1;33m(\u001b[0m\u001b[0mmessage\u001b[0m\u001b[1;33m,\u001b[0m \u001b[0mscreen\u001b[0m\u001b[1;33m,\u001b[0m \u001b[0mstacktrace\u001b[0m\u001b[1;33m)\u001b[0m\u001b[1;33m\u001b[0m\u001b[0m\n\u001b[0m\u001b[0;32m    243\u001b[0m \u001b[1;33m\u001b[0m\u001b[0m\n\u001b[0;32m    244\u001b[0m     \u001b[1;32mdef\u001b[0m \u001b[0m_value_or_default\u001b[0m\u001b[1;33m(\u001b[0m\u001b[0mself\u001b[0m\u001b[1;33m,\u001b[0m \u001b[0mobj\u001b[0m\u001b[1;33m,\u001b[0m \u001b[0mkey\u001b[0m\u001b[1;33m,\u001b[0m \u001b[0mdefault\u001b[0m\u001b[1;33m)\u001b[0m\u001b[1;33m:\u001b[0m\u001b[1;33m\u001b[0m\u001b[0m\n",
      "\u001b[1;31mTimeoutException\u001b[0m: Message: timeout\n  (Session info: headless chrome=67.0.3396.87)\n  (Driver info: chromedriver=2.36.540470 (e522d04694c7ebea4ba8821272dbef4f9b818c91),platform=Windows NT 10.0.17134 x86_64)\n"
     ]
    }
   ],
   "source": [
    "#Iterate through URLS\n",
    "stats_db = []\n",
    "for game in full_schedule:\n",
    "#     print(game)\n",
    "    gameday = game['date']\n",
    "    url_ending = game['gameURL']\n",
    "    game_url = \"https://www.footballdb.com\" + url_ending\n",
    "    executable_path = {'executable_path': 'chromedriver.exe'}\n",
    "    browser = Browser('chrome', **executable_path, headless = True)\n",
    "    browser.visit(game_url)\n",
    "    game_html = browser.html\n",
    "    game_soup = BeautifulSoup(game_html, 'html.parser')\n",
    "    left_table = game_soup.findAll(\"div\", class_=\"section_left\")[0].findAll(\"tr\")\n",
    "    right_table = game_soup.findAll(\"div\", class_=\"section_right\")[0].findAll(\"tr\")\n",
    "    score_table = game_soup.findAll(\"table\", class_=\"statistics\")[0].findAll(\"tr\")\n",
    "    print (\"--- Game URL Scraping ---\")\n",
    "    \n",
    "    # Create Dictionaries for game by team\n",
    "    \n",
    "    away_data = []\n",
    "    home_data = []\n",
    "    for row in left_table:\n",
    "        tableData = row.findAll(\"td\")\n",
    "        away_data.append(tableData[1].text)\n",
    "        home_data.append(tableData[2].text)\n",
    "    for row in right_table[1:]:\n",
    "        tableData = row.findAll(\"td\")\n",
    "        away_data.append(tableData[1].text)\n",
    "        home_data.append(tableData[2].text)\n",
    "    awayScore = int(score_table[1].findAll(\"td\")[5].text)\n",
    "    homeScore = int(score_table[2].findAll(\"td\")[5].text)\n",
    "    totalScore = awayScore + homeScore\n",
    "    awayMargin = awayScore - homeScore\n",
    "    homeMargin = homeScore - awayScore\n",
    "    if homeMargin < 0:\n",
    "        awayResult = \"Win\"\n",
    "        homeResult = \"Loss\"\n",
    "    elif homeMargin == 0:\n",
    "        awayResult = \"Tie\"\n",
    "        homeResult = \"Tie\"\n",
    "    elif homeMargin > 0:\n",
    "        awayResult = \"Loss\"\n",
    "        homeResult = \"Win\"\n",
    "        \n",
    "# Create Stats DataBase\n",
    "\n",
    "    \n",
    "    away_stats = {\"date\": gameday,\n",
    "        \"team\": away_data[0],\n",
    "        \"points\": awayScore,\n",
    "        \"opp\": home_data[0],\n",
    "        \"points_allowed\": homeScore,\n",
    "        \"total_points\": totalScore,\n",
    "        \"margin\": awayMargin,\n",
    "        \"result\": awayResult,\n",
    "        \"first_downs\": int(away_data[1]),\n",
    "        \"total_yards\": int(away_data[5]),\n",
    "        \"rush_yards\": int(away_data[6]),\n",
    "        \"pass_yards\": int(away_data[9]),\n",
    "        \"penalty_yards\": int(away_data[19].split(\"-\")[1]),\n",
    "        \"sacks\": int(home_data[11].split(\"-\")[0]),\n",
    "        \"takeaways\": int(home_data[10].split(\"-\")[2])+int(home_data[20].split(\"-\")[1]),\n",
    "        \"3d%\": float(away_data[22].split(\"-\")[0])/float(away_data[22].split(\"-\")[1]),\n",
    "        \"plays\": int(away_data[24]),\n",
    "        \"TOP\": float(away_data[26].split(\":\")[0])+(float(away_data[26].split(\":\")[1])/60),\n",
    "        \"first_downs_allowed\": int(home_data[1]),\n",
    "        \"total_yards_allowed\": int(home_data[5]),\n",
    "        \"rush_yards_allowed\": int(home_data[6]),\n",
    "        \"pass_yards_allowed\": int(home_data[9]),\n",
    "        \"sacked\": int(away_data[11].split(\"-\")[0]),\n",
    "        \"turnovers\": int(away_data[10].split(\"-\")[2])+int(away_data[20].split(\"-\")[1]),\n",
    "        \"3d%_allowed\": float(home_data[22].split(\"-\")[0])/float(home_data[22].split(\"-\")[1])\n",
    "    }\n",
    "#     print(away_stats)\n",
    "    home_stats = {\"date\": gameday,\n",
    "        \"team\": home_data[0],\n",
    "        \"points\": homeScore,\n",
    "        \"opp\": away_data[0],\n",
    "        \"points_allowed\": awayScore,\n",
    "        \"total_points\": totalScore,\n",
    "        \"margin\": homeMargin,\n",
    "        \"result\": homeResult,\n",
    "        \"first_downs\": int(home_data[1]),\n",
    "        \"total_yards\": int(home_data[5]),\n",
    "        \"rush_yards\": int(home_data[6]),\n",
    "        \"pass_yards\": int(home_data[9]),\n",
    "        \"penalty_yards\": int(home_data[19].split(\"-\")[1]),\n",
    "        \"sacks\": int(away_data[11].split(\"-\")[0]),\n",
    "        \"takeaways\": int(away_data[10].split(\"-\")[2])+int(away_data[20].split(\"-\")[1]),\n",
    "        \"3d%\": float(home_data[22].split(\"-\")[0])/float(home_data[22].split(\"-\")[1]),\n",
    "        \"plays\": int(home_data[24]),\n",
    "        \"TOP\": float(home_data[26].split(\":\")[0])+(float(home_data[26].split(\":\")[1])/60),\n",
    "        \"first_downs_allowed\": int(away_data[1]),\n",
    "        \"total_yards_allowed\": int(away_data[5]),\n",
    "        \"rush_yards_allowed\": int(away_data[6]),\n",
    "        \"pass_yards_allowed\": int(away_data[9]),\n",
    "        \"sacked\": int(home_data[11].split(\"-\")[0]),\n",
    "        \"turnovers\": int(home_data[10].split(\"-\")[2])+int(home_data[20].split(\"-\")[1]),\n",
    "        \"3d%_allowed\": float(away_data[22].split(\"-\")[0])/float(away_data[22].split(\"-\")[1])\n",
    "    }\n",
    "#     print(home_stats)\n",
    "    stats_db.append(away_stats)\n",
    "    stats_db.append(home_stats)\n",
    "    print (f'{away_stats[\"team\"]} vs. {home_stats[\"team\"]} on {gameday} complete!')\n",
    "\n",
    "print (stats_db)"
   ]
  },
  {
   "cell_type": "code",
   "execution_count": null,
   "metadata": {
    "collapsed": true
   },
   "outputs": [],
   "source": [
    "nfl_2016 = pd.DataFrame(stats_db)\n",
    "nfl_2016.head()"
   ]
  },
  {
   "cell_type": "code",
   "execution_count": null,
   "metadata": {
    "collapsed": true
   },
   "outputs": [],
   "source": [
    "nfl_2016.to_csv(\"nfl_2016.csv\")"
   ]
  },
  {
   "cell_type": "code",
   "execution_count": null,
   "metadata": {
    "collapsed": true
   },
   "outputs": [],
   "source": []
  },
  {
   "cell_type": "code",
   "execution_count": null,
   "metadata": {
    "collapsed": true
   },
   "outputs": [],
   "source": []
  },
  {
   "cell_type": "code",
   "execution_count": null,
   "metadata": {
    "collapsed": true
   },
   "outputs": [],
   "source": []
  }
 ],
 "metadata": {
  "kernelspec": {
   "display_name": "Python [conda env:PythonData]",
   "language": "python",
   "name": "conda-env-PythonData-py"
  },
  "language_info": {
   "codemirror_mode": {
    "name": "ipython",
    "version": 3
   },
   "file_extension": ".py",
   "mimetype": "text/x-python",
   "name": "python",
   "nbconvert_exporter": "python",
   "pygments_lexer": "ipython3",
   "version": "3.6.3"
  }
 },
 "nbformat": 4,
 "nbformat_minor": 2
}
